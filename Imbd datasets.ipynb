{
 "cells": [
  {
   "cell_type": "markdown",
   "metadata": {},
   "source": [
    "# Predicting IMDB Ratings"
   ]
  },
  {
   "cell_type": "markdown",
   "metadata": {},
   "source": [
    "## Introduction"
   ]
  },
  {
   "cell_type": "markdown",
   "metadata": {},
   "source": [
    "For this particular project, I will be IMDb Datasets (https://www.imdb.com/interfaces/). It is a Subset of IMDb data are available for access to customers for personal and non-commercial use. In this there are multiple datasets which define different information about a title or a person involved in the movie. Our main goal here is to predict a movies average rating."
   ]
  },
  {
   "cell_type": "code",
   "execution_count": 1,
   "metadata": {},
   "outputs": [],
   "source": [
    "import pandas as pd\n",
    "import numpy as np\n",
    "import matplotlib.pyplot as plt\n",
    "import seaborn as sns\n",
    "\n",
    "from sklearn.linear_model import LinearRegression\n",
    "from sklearn.ensemble import RandomForestRegressor\n",
    "from sklearn.model_selection import train_test_split\n",
    "from sklearn.metrics import mean_squared_error, r2_score, mean_absolute_error"
   ]
  },
  {
   "cell_type": "markdown",
   "metadata": {},
   "source": [
    "## Datasets"
   ]
  },
  {
   "cell_type": "markdown",
   "metadata": {},
   "source": [
    "The first order of the business will to check the datasets we are working with. Each dataset is contained in a gzipped, tab-separated-values (TSV) formatted file in the UTF-8 character set. The first line in each file contains headers that describe what is in each column. A ‘\\N’ is used to denote that a particular field is missing or null for that title/name. We will be working with 2 datasets. "
   ]
  },
  {
   "cell_type": "markdown",
   "metadata": {},
   "source": [
    "- title.basics.tsv.gz - Contains the following information for titles:\n",
    "    + tconst (string) - alphanumeric unique identifier of the title\n",
    "    + titleType (string) – the type/format of the title (e.g. movie, short, tvseries, tvepisode, video, etc)\n",
    "    + primaryTitle (string) – the more popular title / the title used by the filmmakers on promotional materials at the point of release\n",
    "    + originalTitle (string) - original title, in the original language\n",
    "    + isAdult (boolean) - 0: non-adult title; 1: adult title\n",
    "    + startYear (YYYY) – represents the release year of a title. In the case of TV Series, it is the series start year\n",
    "    + endYear (YYYY) – TV Series end year. ‘\\N’ for all other title types\n",
    "    + runtimeMinutes – primary runtime of the title, in minutes\n",
    "    + genres (string array) – includes up to three genres associated with the title"
   ]
  },
  {
   "cell_type": "code",
   "execution_count": 2,
   "metadata": {},
   "outputs": [
    {
     "data": {
      "text/html": [
       "<div>\n",
       "<style scoped>\n",
       "    .dataframe tbody tr th:only-of-type {\n",
       "        vertical-align: middle;\n",
       "    }\n",
       "\n",
       "    .dataframe tbody tr th {\n",
       "        vertical-align: top;\n",
       "    }\n",
       "\n",
       "    .dataframe thead th {\n",
       "        text-align: right;\n",
       "    }\n",
       "</style>\n",
       "<table border=\"1\" class=\"dataframe\">\n",
       "  <thead>\n",
       "    <tr style=\"text-align: right;\">\n",
       "      <th></th>\n",
       "      <th>tconst</th>\n",
       "      <th>titleType</th>\n",
       "      <th>primaryTitle</th>\n",
       "      <th>originalTitle</th>\n",
       "      <th>isAdult</th>\n",
       "      <th>startYear</th>\n",
       "      <th>endYear</th>\n",
       "      <th>runtimeMinutes</th>\n",
       "      <th>genres</th>\n",
       "    </tr>\n",
       "  </thead>\n",
       "  <tbody>\n",
       "    <tr>\n",
       "      <th>0</th>\n",
       "      <td>tt0000001</td>\n",
       "      <td>short</td>\n",
       "      <td>Carmencita</td>\n",
       "      <td>Carmencita</td>\n",
       "      <td>0</td>\n",
       "      <td>1894</td>\n",
       "      <td>\\N</td>\n",
       "      <td>1</td>\n",
       "      <td>Documentary,Short</td>\n",
       "    </tr>\n",
       "    <tr>\n",
       "      <th>1</th>\n",
       "      <td>tt0000002</td>\n",
       "      <td>short</td>\n",
       "      <td>Le clown et ses chiens</td>\n",
       "      <td>Le clown et ses chiens</td>\n",
       "      <td>0</td>\n",
       "      <td>1892</td>\n",
       "      <td>\\N</td>\n",
       "      <td>5</td>\n",
       "      <td>Animation,Short</td>\n",
       "    </tr>\n",
       "    <tr>\n",
       "      <th>2</th>\n",
       "      <td>tt0000003</td>\n",
       "      <td>short</td>\n",
       "      <td>Pauvre Pierrot</td>\n",
       "      <td>Pauvre Pierrot</td>\n",
       "      <td>0</td>\n",
       "      <td>1892</td>\n",
       "      <td>\\N</td>\n",
       "      <td>4</td>\n",
       "      <td>Animation,Comedy,Romance</td>\n",
       "    </tr>\n",
       "    <tr>\n",
       "      <th>3</th>\n",
       "      <td>tt0000004</td>\n",
       "      <td>short</td>\n",
       "      <td>Un bon bock</td>\n",
       "      <td>Un bon bock</td>\n",
       "      <td>0</td>\n",
       "      <td>1892</td>\n",
       "      <td>\\N</td>\n",
       "      <td>12</td>\n",
       "      <td>Animation,Short</td>\n",
       "    </tr>\n",
       "    <tr>\n",
       "      <th>4</th>\n",
       "      <td>tt0000005</td>\n",
       "      <td>short</td>\n",
       "      <td>Blacksmith Scene</td>\n",
       "      <td>Blacksmith Scene</td>\n",
       "      <td>0</td>\n",
       "      <td>1893</td>\n",
       "      <td>\\N</td>\n",
       "      <td>1</td>\n",
       "      <td>Comedy,Short</td>\n",
       "    </tr>\n",
       "  </tbody>\n",
       "</table>\n",
       "</div>"
      ],
      "text/plain": [
       "      tconst titleType            primaryTitle           originalTitle  \\\n",
       "0  tt0000001     short              Carmencita              Carmencita   \n",
       "1  tt0000002     short  Le clown et ses chiens  Le clown et ses chiens   \n",
       "2  tt0000003     short          Pauvre Pierrot          Pauvre Pierrot   \n",
       "3  tt0000004     short             Un bon bock             Un bon bock   \n",
       "4  tt0000005     short        Blacksmith Scene        Blacksmith Scene   \n",
       "\n",
       "  isAdult startYear endYear runtimeMinutes                    genres  \n",
       "0       0      1894      \\N              1         Documentary,Short  \n",
       "1       0      1892      \\N              5           Animation,Short  \n",
       "2       0      1892      \\N              4  Animation,Comedy,Romance  \n",
       "3       0      1892      \\N             12           Animation,Short  \n",
       "4       0      1893      \\N              1              Comedy,Short  "
      ]
     },
     "execution_count": 2,
     "metadata": {},
     "output_type": "execute_result"
    }
   ],
   "source": [
    "df_basics = pd.read_csv(\"data/title.basics.tsv.gz\", \n",
    "                      compression='gzip', sep=\"\\t\",\n",
    "                       low_memory=False)\n",
    "df_basics.head()"
   ]
  },
  {
   "cell_type": "code",
   "execution_count": 3,
   "metadata": {},
   "outputs": [
    {
     "data": {
      "text/plain": [
       "7818270"
      ]
     },
     "execution_count": 3,
     "metadata": {},
     "output_type": "execute_result"
    }
   ],
   "source": [
    "len(df_basics)"
   ]
  },
  {
   "cell_type": "markdown",
   "metadata": {},
   "source": [
    "- title.ratings.tsv.gz – Contains the IMDb rating and votes information for titles\n",
    "    + tconst (string) - alphanumeric unique identifier of the title\n",
    "    + averageRating – weighted average of all the individual user ratings\n",
    "    + numVotes - number of votes the title has received"
   ]
  },
  {
   "cell_type": "code",
   "execution_count": 4,
   "metadata": {},
   "outputs": [
    {
     "data": {
      "text/html": [
       "<div>\n",
       "<style scoped>\n",
       "    .dataframe tbody tr th:only-of-type {\n",
       "        vertical-align: middle;\n",
       "    }\n",
       "\n",
       "    .dataframe tbody tr th {\n",
       "        vertical-align: top;\n",
       "    }\n",
       "\n",
       "    .dataframe thead th {\n",
       "        text-align: right;\n",
       "    }\n",
       "</style>\n",
       "<table border=\"1\" class=\"dataframe\">\n",
       "  <thead>\n",
       "    <tr style=\"text-align: right;\">\n",
       "      <th></th>\n",
       "      <th>tconst</th>\n",
       "      <th>averageRating</th>\n",
       "      <th>numVotes</th>\n",
       "    </tr>\n",
       "  </thead>\n",
       "  <tbody>\n",
       "    <tr>\n",
       "      <th>0</th>\n",
       "      <td>tt0000001</td>\n",
       "      <td>5.7</td>\n",
       "      <td>1697</td>\n",
       "    </tr>\n",
       "    <tr>\n",
       "      <th>1</th>\n",
       "      <td>tt0000002</td>\n",
       "      <td>6.0</td>\n",
       "      <td>211</td>\n",
       "    </tr>\n",
       "    <tr>\n",
       "      <th>2</th>\n",
       "      <td>tt0000003</td>\n",
       "      <td>6.5</td>\n",
       "      <td>1451</td>\n",
       "    </tr>\n",
       "    <tr>\n",
       "      <th>3</th>\n",
       "      <td>tt0000004</td>\n",
       "      <td>6.1</td>\n",
       "      <td>123</td>\n",
       "    </tr>\n",
       "    <tr>\n",
       "      <th>4</th>\n",
       "      <td>tt0000005</td>\n",
       "      <td>6.1</td>\n",
       "      <td>2246</td>\n",
       "    </tr>\n",
       "  </tbody>\n",
       "</table>\n",
       "</div>"
      ],
      "text/plain": [
       "      tconst  averageRating  numVotes\n",
       "0  tt0000001            5.7      1697\n",
       "1  tt0000002            6.0       211\n",
       "2  tt0000003            6.5      1451\n",
       "3  tt0000004            6.1       123\n",
       "4  tt0000005            6.1      2246"
      ]
     },
     "execution_count": 4,
     "metadata": {},
     "output_type": "execute_result"
    }
   ],
   "source": [
    "df_ratings = pd.read_csv(\"data/title.ratings.tsv.gz\", \n",
    "                      compression='gzip', sep=\"\\t\")\n",
    "df_ratings.head()"
   ]
  },
  {
   "cell_type": "code",
   "execution_count": 5,
   "metadata": {},
   "outputs": [
    {
     "data": {
      "text/plain": [
       "1141960"
      ]
     },
     "execution_count": 5,
     "metadata": {},
     "output_type": "execute_result"
    }
   ],
   "source": [
    "len(df_ratings)"
   ]
  },
  {
   "cell_type": "markdown",
   "metadata": {},
   "source": [
    "Now that we have all the informatation,  we compiled our information into a new dataframe using the tconst variable which defines the alphanumeric unique identifier of the title."
   ]
  },
  {
   "cell_type": "code",
   "execution_count": 6,
   "metadata": {},
   "outputs": [
    {
     "data": {
      "text/html": [
       "<div>\n",
       "<style scoped>\n",
       "    .dataframe tbody tr th:only-of-type {\n",
       "        vertical-align: middle;\n",
       "    }\n",
       "\n",
       "    .dataframe tbody tr th {\n",
       "        vertical-align: top;\n",
       "    }\n",
       "\n",
       "    .dataframe thead th {\n",
       "        text-align: right;\n",
       "    }\n",
       "</style>\n",
       "<table border=\"1\" class=\"dataframe\">\n",
       "  <thead>\n",
       "    <tr style=\"text-align: right;\">\n",
       "      <th></th>\n",
       "      <th>tconst</th>\n",
       "      <th>averageRating</th>\n",
       "      <th>numVotes</th>\n",
       "      <th>titleType</th>\n",
       "      <th>primaryTitle</th>\n",
       "      <th>originalTitle</th>\n",
       "      <th>isAdult</th>\n",
       "      <th>startYear</th>\n",
       "      <th>endYear</th>\n",
       "      <th>runtimeMinutes</th>\n",
       "      <th>genres</th>\n",
       "    </tr>\n",
       "  </thead>\n",
       "  <tbody>\n",
       "    <tr>\n",
       "      <th>0</th>\n",
       "      <td>tt0000001</td>\n",
       "      <td>5.7</td>\n",
       "      <td>1697</td>\n",
       "      <td>short</td>\n",
       "      <td>Carmencita</td>\n",
       "      <td>Carmencita</td>\n",
       "      <td>0</td>\n",
       "      <td>1894</td>\n",
       "      <td>\\N</td>\n",
       "      <td>1</td>\n",
       "      <td>Documentary,Short</td>\n",
       "    </tr>\n",
       "    <tr>\n",
       "      <th>1</th>\n",
       "      <td>tt0000002</td>\n",
       "      <td>6.0</td>\n",
       "      <td>211</td>\n",
       "      <td>short</td>\n",
       "      <td>Le clown et ses chiens</td>\n",
       "      <td>Le clown et ses chiens</td>\n",
       "      <td>0</td>\n",
       "      <td>1892</td>\n",
       "      <td>\\N</td>\n",
       "      <td>5</td>\n",
       "      <td>Animation,Short</td>\n",
       "    </tr>\n",
       "    <tr>\n",
       "      <th>2</th>\n",
       "      <td>tt0000003</td>\n",
       "      <td>6.5</td>\n",
       "      <td>1451</td>\n",
       "      <td>short</td>\n",
       "      <td>Pauvre Pierrot</td>\n",
       "      <td>Pauvre Pierrot</td>\n",
       "      <td>0</td>\n",
       "      <td>1892</td>\n",
       "      <td>\\N</td>\n",
       "      <td>4</td>\n",
       "      <td>Animation,Comedy,Romance</td>\n",
       "    </tr>\n",
       "    <tr>\n",
       "      <th>3</th>\n",
       "      <td>tt0000004</td>\n",
       "      <td>6.1</td>\n",
       "      <td>123</td>\n",
       "      <td>short</td>\n",
       "      <td>Un bon bock</td>\n",
       "      <td>Un bon bock</td>\n",
       "      <td>0</td>\n",
       "      <td>1892</td>\n",
       "      <td>\\N</td>\n",
       "      <td>12</td>\n",
       "      <td>Animation,Short</td>\n",
       "    </tr>\n",
       "    <tr>\n",
       "      <th>4</th>\n",
       "      <td>tt0000005</td>\n",
       "      <td>6.1</td>\n",
       "      <td>2246</td>\n",
       "      <td>short</td>\n",
       "      <td>Blacksmith Scene</td>\n",
       "      <td>Blacksmith Scene</td>\n",
       "      <td>0</td>\n",
       "      <td>1893</td>\n",
       "      <td>\\N</td>\n",
       "      <td>1</td>\n",
       "      <td>Comedy,Short</td>\n",
       "    </tr>\n",
       "  </tbody>\n",
       "</table>\n",
       "</div>"
      ],
      "text/plain": [
       "      tconst  averageRating  numVotes titleType            primaryTitle  \\\n",
       "0  tt0000001            5.7      1697     short              Carmencita   \n",
       "1  tt0000002            6.0       211     short  Le clown et ses chiens   \n",
       "2  tt0000003            6.5      1451     short          Pauvre Pierrot   \n",
       "3  tt0000004            6.1       123     short             Un bon bock   \n",
       "4  tt0000005            6.1      2246     short        Blacksmith Scene   \n",
       "\n",
       "            originalTitle isAdult startYear endYear runtimeMinutes  \\\n",
       "0              Carmencita       0      1894      \\N              1   \n",
       "1  Le clown et ses chiens       0      1892      \\N              5   \n",
       "2          Pauvre Pierrot       0      1892      \\N              4   \n",
       "3             Un bon bock       0      1892      \\N             12   \n",
       "4        Blacksmith Scene       0      1893      \\N              1   \n",
       "\n",
       "                     genres  \n",
       "0         Documentary,Short  \n",
       "1           Animation,Short  \n",
       "2  Animation,Comedy,Romance  \n",
       "3           Animation,Short  \n",
       "4              Comedy,Short  "
      ]
     },
     "execution_count": 6,
     "metadata": {},
     "output_type": "execute_result"
    }
   ],
   "source": [
    "df = pd.merge(df_ratings, df_basics, \n",
    "              on=\"tconst\")\n",
    "df.head()"
   ]
  },
  {
   "cell_type": "code",
   "execution_count": 7,
   "metadata": {},
   "outputs": [
    {
     "data": {
      "text/plain": [
       "tvEpisode       528798\n",
       "movie           262356\n",
       "short           131459\n",
       "tvSeries         75055\n",
       "video            62266\n",
       "tvMovie          46873\n",
       "videoGame        11961\n",
       "tvMiniSeries     11505\n",
       "tvSpecial         9582\n",
       "tvShort           2105\n",
       "Name: titleType, dtype: int64"
      ]
     },
     "execution_count": 7,
     "metadata": {},
     "output_type": "execute_result"
    }
   ],
   "source": [
    "df.titleType.value_counts()"
   ]
  },
  {
   "cell_type": "markdown",
   "metadata": {},
   "source": [
    "We have all sorts of formats in this dataset, but we are only interested in Movies. So get us filter this dataset."
   ]
  },
  {
   "cell_type": "code",
   "execution_count": 8,
   "metadata": {},
   "outputs": [
    {
     "data": {
      "text/html": [
       "<div>\n",
       "<style scoped>\n",
       "    .dataframe tbody tr th:only-of-type {\n",
       "        vertical-align: middle;\n",
       "    }\n",
       "\n",
       "    .dataframe tbody tr th {\n",
       "        vertical-align: top;\n",
       "    }\n",
       "\n",
       "    .dataframe thead th {\n",
       "        text-align: right;\n",
       "    }\n",
       "</style>\n",
       "<table border=\"1\" class=\"dataframe\">\n",
       "  <thead>\n",
       "    <tr style=\"text-align: right;\">\n",
       "      <th></th>\n",
       "      <th>tconst</th>\n",
       "      <th>averageRating</th>\n",
       "      <th>numVotes</th>\n",
       "      <th>primaryTitle</th>\n",
       "      <th>originalTitle</th>\n",
       "      <th>isAdult</th>\n",
       "      <th>startYear</th>\n",
       "      <th>endYear</th>\n",
       "      <th>runtimeMinutes</th>\n",
       "      <th>genres</th>\n",
       "    </tr>\n",
       "  </thead>\n",
       "  <tbody>\n",
       "    <tr>\n",
       "      <th>340</th>\n",
       "      <td>tt0000502</td>\n",
       "      <td>4.5</td>\n",
       "      <td>8</td>\n",
       "      <td>Bohemios</td>\n",
       "      <td>Bohemios</td>\n",
       "      <td>0</td>\n",
       "      <td>1905</td>\n",
       "      <td>\\N</td>\n",
       "      <td>100</td>\n",
       "      <td>\\N</td>\n",
       "    </tr>\n",
       "    <tr>\n",
       "      <th>374</th>\n",
       "      <td>tt0000574</td>\n",
       "      <td>6.1</td>\n",
       "      <td>631</td>\n",
       "      <td>The Story of the Kelly Gang</td>\n",
       "      <td>The Story of the Kelly Gang</td>\n",
       "      <td>0</td>\n",
       "      <td>1906</td>\n",
       "      <td>\\N</td>\n",
       "      <td>70</td>\n",
       "      <td>Action,Adventure,Biography</td>\n",
       "    </tr>\n",
       "    <tr>\n",
       "      <th>383</th>\n",
       "      <td>tt0000591</td>\n",
       "      <td>6.0</td>\n",
       "      <td>5</td>\n",
       "      <td>The Prodigal Son</td>\n",
       "      <td>L'enfant prodigue</td>\n",
       "      <td>0</td>\n",
       "      <td>1907</td>\n",
       "      <td>\\N</td>\n",
       "      <td>90</td>\n",
       "      <td>Drama</td>\n",
       "    </tr>\n",
       "    <tr>\n",
       "      <th>398</th>\n",
       "      <td>tt0000615</td>\n",
       "      <td>4.5</td>\n",
       "      <td>14</td>\n",
       "      <td>Robbery Under Arms</td>\n",
       "      <td>Robbery Under Arms</td>\n",
       "      <td>0</td>\n",
       "      <td>1907</td>\n",
       "      <td>\\N</td>\n",
       "      <td>\\N</td>\n",
       "      <td>Drama</td>\n",
       "    </tr>\n",
       "    <tr>\n",
       "      <th>406</th>\n",
       "      <td>tt0000630</td>\n",
       "      <td>3.8</td>\n",
       "      <td>12</td>\n",
       "      <td>Hamlet</td>\n",
       "      <td>Amleto</td>\n",
       "      <td>0</td>\n",
       "      <td>1908</td>\n",
       "      <td>\\N</td>\n",
       "      <td>\\N</td>\n",
       "      <td>Drama</td>\n",
       "    </tr>\n",
       "  </tbody>\n",
       "</table>\n",
       "</div>"
      ],
      "text/plain": [
       "        tconst  averageRating  numVotes                 primaryTitle  \\\n",
       "340  tt0000502            4.5         8                     Bohemios   \n",
       "374  tt0000574            6.1       631  The Story of the Kelly Gang   \n",
       "383  tt0000591            6.0         5             The Prodigal Son   \n",
       "398  tt0000615            4.5        14           Robbery Under Arms   \n",
       "406  tt0000630            3.8        12                       Hamlet   \n",
       "\n",
       "                   originalTitle isAdult startYear endYear runtimeMinutes  \\\n",
       "340                     Bohemios       0      1905      \\N            100   \n",
       "374  The Story of the Kelly Gang       0      1906      \\N             70   \n",
       "383            L'enfant prodigue       0      1907      \\N             90   \n",
       "398           Robbery Under Arms       0      1907      \\N             \\N   \n",
       "406                       Amleto       0      1908      \\N             \\N   \n",
       "\n",
       "                         genres  \n",
       "340                          \\N  \n",
       "374  Action,Adventure,Biography  \n",
       "383                       Drama  \n",
       "398                       Drama  \n",
       "406                       Drama  "
      ]
     },
     "execution_count": 8,
     "metadata": {},
     "output_type": "execute_result"
    }
   ],
   "source": [
    "df = df[df.titleType == \"movie\"]\n",
    "df = df.drop(['titleType'], axis=1)\n",
    "df.head()"
   ]
  },
  {
   "cell_type": "code",
   "execution_count": 9,
   "metadata": {},
   "outputs": [
    {
     "name": "stderr",
     "output_type": "stream",
     "text": [
      "E:\\software_data\\Anaconda\\envs\\Data Science\\lib\\site-packages\\pandas\\core\\ops\\array_ops.py:253: FutureWarning: elementwise comparison failed; returning scalar instead, but in the future will perform elementwise comparison\n",
      "  res_values = method(rvalues)\n"
     ]
    },
    {
     "data": {
      "text/html": [
       "<div>\n",
       "<style scoped>\n",
       "    .dataframe tbody tr th:only-of-type {\n",
       "        vertical-align: middle;\n",
       "    }\n",
       "\n",
       "    .dataframe tbody tr th {\n",
       "        vertical-align: top;\n",
       "    }\n",
       "\n",
       "    .dataframe thead th {\n",
       "        text-align: right;\n",
       "    }\n",
       "</style>\n",
       "<table border=\"1\" class=\"dataframe\">\n",
       "  <thead>\n",
       "    <tr style=\"text-align: right;\">\n",
       "      <th></th>\n",
       "      <th>tconst</th>\n",
       "      <th>averageRating</th>\n",
       "      <th>numVotes</th>\n",
       "      <th>primaryTitle</th>\n",
       "      <th>originalTitle</th>\n",
       "      <th>isAdult</th>\n",
       "      <th>startYear</th>\n",
       "      <th>endYear</th>\n",
       "      <th>runtimeMinutes</th>\n",
       "      <th>genres</th>\n",
       "    </tr>\n",
       "  </thead>\n",
       "  <tbody>\n",
       "    <tr>\n",
       "      <th>340</th>\n",
       "      <td>tt0000502</td>\n",
       "      <td>4.5</td>\n",
       "      <td>8</td>\n",
       "      <td>Bohemios</td>\n",
       "      <td>Bohemios</td>\n",
       "      <td>0</td>\n",
       "      <td>1905</td>\n",
       "      <td>NaN</td>\n",
       "      <td>100</td>\n",
       "      <td>NaN</td>\n",
       "    </tr>\n",
       "    <tr>\n",
       "      <th>374</th>\n",
       "      <td>tt0000574</td>\n",
       "      <td>6.1</td>\n",
       "      <td>631</td>\n",
       "      <td>The Story of the Kelly Gang</td>\n",
       "      <td>The Story of the Kelly Gang</td>\n",
       "      <td>0</td>\n",
       "      <td>1906</td>\n",
       "      <td>NaN</td>\n",
       "      <td>70</td>\n",
       "      <td>Action,Adventure,Biography</td>\n",
       "    </tr>\n",
       "    <tr>\n",
       "      <th>383</th>\n",
       "      <td>tt0000591</td>\n",
       "      <td>6.0</td>\n",
       "      <td>5</td>\n",
       "      <td>The Prodigal Son</td>\n",
       "      <td>L'enfant prodigue</td>\n",
       "      <td>0</td>\n",
       "      <td>1907</td>\n",
       "      <td>NaN</td>\n",
       "      <td>90</td>\n",
       "      <td>Drama</td>\n",
       "    </tr>\n",
       "    <tr>\n",
       "      <th>398</th>\n",
       "      <td>tt0000615</td>\n",
       "      <td>4.5</td>\n",
       "      <td>14</td>\n",
       "      <td>Robbery Under Arms</td>\n",
       "      <td>Robbery Under Arms</td>\n",
       "      <td>0</td>\n",
       "      <td>1907</td>\n",
       "      <td>NaN</td>\n",
       "      <td>NaN</td>\n",
       "      <td>Drama</td>\n",
       "    </tr>\n",
       "    <tr>\n",
       "      <th>406</th>\n",
       "      <td>tt0000630</td>\n",
       "      <td>3.8</td>\n",
       "      <td>12</td>\n",
       "      <td>Hamlet</td>\n",
       "      <td>Amleto</td>\n",
       "      <td>0</td>\n",
       "      <td>1908</td>\n",
       "      <td>NaN</td>\n",
       "      <td>NaN</td>\n",
       "      <td>Drama</td>\n",
       "    </tr>\n",
       "  </tbody>\n",
       "</table>\n",
       "</div>"
      ],
      "text/plain": [
       "        tconst  averageRating  numVotes                 primaryTitle  \\\n",
       "340  tt0000502            4.5         8                     Bohemios   \n",
       "374  tt0000574            6.1       631  The Story of the Kelly Gang   \n",
       "383  tt0000591            6.0         5             The Prodigal Son   \n",
       "398  tt0000615            4.5        14           Robbery Under Arms   \n",
       "406  tt0000630            3.8        12                       Hamlet   \n",
       "\n",
       "                   originalTitle isAdult startYear endYear runtimeMinutes  \\\n",
       "340                     Bohemios       0      1905     NaN            100   \n",
       "374  The Story of the Kelly Gang       0      1906     NaN             70   \n",
       "383            L'enfant prodigue       0      1907     NaN             90   \n",
       "398           Robbery Under Arms       0      1907     NaN            NaN   \n",
       "406                       Amleto       0      1908     NaN            NaN   \n",
       "\n",
       "                         genres  \n",
       "340                         NaN  \n",
       "374  Action,Adventure,Biography  \n",
       "383                       Drama  \n",
       "398                       Drama  \n",
       "406                       Drama  "
      ]
     },
     "execution_count": 9,
     "metadata": {},
     "output_type": "execute_result"
    }
   ],
   "source": [
    "df[df == '\\\\N'] = np.nan\n",
    "df.head()"
   ]
  },
  {
   "cell_type": "code",
   "execution_count": 10,
   "metadata": {},
   "outputs": [],
   "source": [
    "df[\"startYear\"] = df[\"startYear\"].astype(\"float64\")\n",
    "df[\"runtimeMinutes\"] = df[\"runtimeMinutes\"].astype(\"float64\")\n",
    "df.isAdult = df.isAdult.astype(int)"
   ]
  },
  {
   "cell_type": "markdown",
   "metadata": {},
   "source": [
    "I decided to remove the moves which have votes less than 100."
   ]
  },
  {
   "cell_type": "code",
   "execution_count": 11,
   "metadata": {},
   "outputs": [],
   "source": [
    "df = df[df.numVotes > 100]"
   ]
  },
  {
   "cell_type": "markdown",
   "metadata": {},
   "source": [
    "## Data Cleaning and Exploration"
   ]
  },
  {
   "cell_type": "markdown",
   "metadata": {},
   "source": [
    "Now that we have the data ready, lets explore it and remove some redundant rows from this dataset."
   ]
  },
  {
   "cell_type": "code",
   "execution_count": 12,
   "metadata": {},
   "outputs": [
    {
     "name": "stdout",
     "output_type": "stream",
     "text": [
      "<class 'pandas.core.frame.DataFrame'>\n",
      "Int64Index: 99664 entries, 374 to 1141944\n",
      "Data columns (total 10 columns):\n",
      " #   Column          Non-Null Count  Dtype  \n",
      "---  ------          --------------  -----  \n",
      " 0   tconst          99664 non-null  object \n",
      " 1   averageRating   99664 non-null  float64\n",
      " 2   numVotes        99664 non-null  int64  \n",
      " 3   primaryTitle    99664 non-null  object \n",
      " 4   originalTitle   99664 non-null  object \n",
      " 5   isAdult         99664 non-null  int32  \n",
      " 6   startYear       99658 non-null  float64\n",
      " 7   endYear         0 non-null      object \n",
      " 8   runtimeMinutes  98263 non-null  float64\n",
      " 9   genres          99624 non-null  object \n",
      "dtypes: float64(3), int32(1), int64(1), object(5)\n",
      "memory usage: 8.0+ MB\n"
     ]
    }
   ],
   "source": [
    "df.info()"
   ]
  },
  {
   "cell_type": "code",
   "execution_count": 13,
   "metadata": {},
   "outputs": [
    {
     "data": {
      "text/html": [
       "<div>\n",
       "<style scoped>\n",
       "    .dataframe tbody tr th:only-of-type {\n",
       "        vertical-align: middle;\n",
       "    }\n",
       "\n",
       "    .dataframe tbody tr th {\n",
       "        vertical-align: top;\n",
       "    }\n",
       "\n",
       "    .dataframe thead th {\n",
       "        text-align: right;\n",
       "    }\n",
       "</style>\n",
       "<table border=\"1\" class=\"dataframe\">\n",
       "  <thead>\n",
       "    <tr style=\"text-align: right;\">\n",
       "      <th></th>\n",
       "      <th>averageRating</th>\n",
       "      <th>numVotes</th>\n",
       "      <th>isAdult</th>\n",
       "      <th>startYear</th>\n",
       "      <th>runtimeMinutes</th>\n",
       "    </tr>\n",
       "  </thead>\n",
       "  <tbody>\n",
       "    <tr>\n",
       "      <th>count</th>\n",
       "      <td>99664.000000</td>\n",
       "      <td>9.966400e+04</td>\n",
       "      <td>99664.000000</td>\n",
       "      <td>99658.000000</td>\n",
       "      <td>98263.000000</td>\n",
       "    </tr>\n",
       "    <tr>\n",
       "      <th>mean</th>\n",
       "      <td>5.973620</td>\n",
       "      <td>8.738203e+03</td>\n",
       "      <td>0.002970</td>\n",
       "      <td>1995.227327</td>\n",
       "      <td>99.673142</td>\n",
       "    </tr>\n",
       "    <tr>\n",
       "      <th>std</th>\n",
       "      <td>1.262786</td>\n",
       "      <td>5.188274e+04</td>\n",
       "      <td>0.054417</td>\n",
       "      <td>23.806616</td>\n",
       "      <td>30.248996</td>\n",
       "    </tr>\n",
       "    <tr>\n",
       "      <th>min</th>\n",
       "      <td>1.000000</td>\n",
       "      <td>1.010000e+02</td>\n",
       "      <td>0.000000</td>\n",
       "      <td>1904.000000</td>\n",
       "      <td>25.000000</td>\n",
       "    </tr>\n",
       "    <tr>\n",
       "      <th>25%</th>\n",
       "      <td>5.300000</td>\n",
       "      <td>1.980000e+02</td>\n",
       "      <td>0.000000</td>\n",
       "      <td>1982.000000</td>\n",
       "      <td>87.000000</td>\n",
       "    </tr>\n",
       "    <tr>\n",
       "      <th>50%</th>\n",
       "      <td>6.200000</td>\n",
       "      <td>4.600000e+02</td>\n",
       "      <td>0.000000</td>\n",
       "      <td>2004.000000</td>\n",
       "      <td>95.000000</td>\n",
       "    </tr>\n",
       "    <tr>\n",
       "      <th>75%</th>\n",
       "      <td>6.900000</td>\n",
       "      <td>1.681000e+03</td>\n",
       "      <td>0.000000</td>\n",
       "      <td>2014.000000</td>\n",
       "      <td>108.000000</td>\n",
       "    </tr>\n",
       "    <tr>\n",
       "      <th>max</th>\n",
       "      <td>9.900000</td>\n",
       "      <td>2.376476e+06</td>\n",
       "      <td>1.000000</td>\n",
       "      <td>2021.000000</td>\n",
       "      <td>5220.000000</td>\n",
       "    </tr>\n",
       "  </tbody>\n",
       "</table>\n",
       "</div>"
      ],
      "text/plain": [
       "       averageRating      numVotes       isAdult     startYear  runtimeMinutes\n",
       "count   99664.000000  9.966400e+04  99664.000000  99658.000000    98263.000000\n",
       "mean        5.973620  8.738203e+03      0.002970   1995.227327       99.673142\n",
       "std         1.262786  5.188274e+04      0.054417     23.806616       30.248996\n",
       "min         1.000000  1.010000e+02      0.000000   1904.000000       25.000000\n",
       "25%         5.300000  1.980000e+02      0.000000   1982.000000       87.000000\n",
       "50%         6.200000  4.600000e+02      0.000000   2004.000000       95.000000\n",
       "75%         6.900000  1.681000e+03      0.000000   2014.000000      108.000000\n",
       "max         9.900000  2.376476e+06      1.000000   2021.000000     5220.000000"
      ]
     },
     "execution_count": 13,
     "metadata": {},
     "output_type": "execute_result"
    }
   ],
   "source": [
    "df.describe()"
   ]
  },
  {
   "cell_type": "markdown",
   "metadata": {},
   "source": [
    "All the values in endYear are Null, so we can remove it."
   ]
  },
  {
   "cell_type": "code",
   "execution_count": 14,
   "metadata": {},
   "outputs": [],
   "source": [
    "df = df.drop(['endYear'], axis = 1)"
   ]
  },
  {
   "cell_type": "markdown",
   "metadata": {},
   "source": [
    "We checked the startYear column there we 6 missing values, so I decided to google and find out the years these movies were made. The density plot shows the most movies were made from 2000 - 2020. The frequency of movies made were increasing over the years. We also have some outliers in this data."
   ]
  },
  {
   "cell_type": "code",
   "execution_count": 15,
   "metadata": {},
   "outputs": [
    {
     "data": {
      "text/plain": [
       "6"
      ]
     },
     "execution_count": 15,
     "metadata": {},
     "output_type": "execute_result"
    }
   ],
   "source": [
    "df.startYear.isnull().sum()"
   ]
  },
  {
   "cell_type": "code",
   "execution_count": 16,
   "metadata": {},
   "outputs": [
    {
     "data": {
      "text/html": [
       "<div>\n",
       "<style scoped>\n",
       "    .dataframe tbody tr th:only-of-type {\n",
       "        vertical-align: middle;\n",
       "    }\n",
       "\n",
       "    .dataframe tbody tr th {\n",
       "        vertical-align: top;\n",
       "    }\n",
       "\n",
       "    .dataframe thead th {\n",
       "        text-align: right;\n",
       "    }\n",
       "</style>\n",
       "<table border=\"1\" class=\"dataframe\">\n",
       "  <thead>\n",
       "    <tr style=\"text-align: right;\">\n",
       "      <th></th>\n",
       "      <th>tconst</th>\n",
       "      <th>averageRating</th>\n",
       "      <th>numVotes</th>\n",
       "      <th>primaryTitle</th>\n",
       "      <th>originalTitle</th>\n",
       "      <th>isAdult</th>\n",
       "      <th>startYear</th>\n",
       "      <th>runtimeMinutes</th>\n",
       "      <th>genres</th>\n",
       "    </tr>\n",
       "  </thead>\n",
       "  <tbody>\n",
       "    <tr>\n",
       "      <th>75060</th>\n",
       "      <td>tt0102844</td>\n",
       "      <td>6.8</td>\n",
       "      <td>1255</td>\n",
       "      <td>Saudagar</td>\n",
       "      <td>Saudagar</td>\n",
       "      <td>0</td>\n",
       "      <td>NaN</td>\n",
       "      <td>213.0</td>\n",
       "      <td>Action,Drama,Romance</td>\n",
       "    </tr>\n",
       "    <tr>\n",
       "      <th>182439</th>\n",
       "      <td>tt0312664</td>\n",
       "      <td>4.4</td>\n",
       "      <td>162</td>\n",
       "      <td>Escape from Taliban</td>\n",
       "      <td>Escape from Taliban</td>\n",
       "      <td>0</td>\n",
       "      <td>NaN</td>\n",
       "      <td>166.0</td>\n",
       "      <td>Adventure,Drama,Thriller</td>\n",
       "    </tr>\n",
       "    <tr>\n",
       "      <th>255586</th>\n",
       "      <td>tt0488836</td>\n",
       "      <td>7.5</td>\n",
       "      <td>765</td>\n",
       "      <td>Hanuman</td>\n",
       "      <td>Hanuman</td>\n",
       "      <td>0</td>\n",
       "      <td>NaN</td>\n",
       "      <td>89.0</td>\n",
       "      <td>Animation</td>\n",
       "    </tr>\n",
       "    <tr>\n",
       "      <th>452566</th>\n",
       "      <td>tt1027755</td>\n",
       "      <td>3.4</td>\n",
       "      <td>190</td>\n",
       "      <td>Tied in Blood</td>\n",
       "      <td>Tied in Blood</td>\n",
       "      <td>0</td>\n",
       "      <td>NaN</td>\n",
       "      <td>88.0</td>\n",
       "      <td>Drama,Horror,Mystery</td>\n",
       "    </tr>\n",
       "    <tr>\n",
       "      <th>523018</th>\n",
       "      <td>tt11777460</td>\n",
       "      <td>8.4</td>\n",
       "      <td>474</td>\n",
       "      <td>Sri Bharatha Baahubali</td>\n",
       "      <td>Sri Bharatha Baahubali</td>\n",
       "      <td>0</td>\n",
       "      <td>NaN</td>\n",
       "      <td>164.0</td>\n",
       "      <td>Comedy</td>\n",
       "    </tr>\n",
       "    <tr>\n",
       "      <th>1022785</th>\n",
       "      <td>tt6829368</td>\n",
       "      <td>3.4</td>\n",
       "      <td>188</td>\n",
       "      <td>Day 13</td>\n",
       "      <td>Day 13</td>\n",
       "      <td>0</td>\n",
       "      <td>NaN</td>\n",
       "      <td>91.0</td>\n",
       "      <td>Horror,Thriller</td>\n",
       "    </tr>\n",
       "  </tbody>\n",
       "</table>\n",
       "</div>"
      ],
      "text/plain": [
       "             tconst  averageRating  numVotes            primaryTitle  \\\n",
       "75060     tt0102844            6.8      1255                Saudagar   \n",
       "182439    tt0312664            4.4       162     Escape from Taliban   \n",
       "255586    tt0488836            7.5       765                 Hanuman   \n",
       "452566    tt1027755            3.4       190           Tied in Blood   \n",
       "523018   tt11777460            8.4       474  Sri Bharatha Baahubali   \n",
       "1022785   tt6829368            3.4       188                  Day 13   \n",
       "\n",
       "                  originalTitle  isAdult  startYear  runtimeMinutes  \\\n",
       "75060                  Saudagar        0        NaN           213.0   \n",
       "182439      Escape from Taliban        0        NaN           166.0   \n",
       "255586                  Hanuman        0        NaN            89.0   \n",
       "452566            Tied in Blood        0        NaN            88.0   \n",
       "523018   Sri Bharatha Baahubali        0        NaN           164.0   \n",
       "1022785                  Day 13        0        NaN            91.0   \n",
       "\n",
       "                           genres  \n",
       "75060        Action,Drama,Romance  \n",
       "182439   Adventure,Drama,Thriller  \n",
       "255586                  Animation  \n",
       "452566       Drama,Horror,Mystery  \n",
       "523018                     Comedy  \n",
       "1022785           Horror,Thriller  "
      ]
     },
     "execution_count": 16,
     "metadata": {},
     "output_type": "execute_result"
    }
   ],
   "source": [
    "df[df.startYear.isnull()]"
   ]
  },
  {
   "cell_type": "code",
   "execution_count": 17,
   "metadata": {},
   "outputs": [],
   "source": [
    "movie_time = [1991, 2003, 2005, 2012, 2020, 2020]\n",
    "i=0 \n",
    "for idx, x in df[df.startYear.isnull()].iterrows():\n",
    "    df.loc[idx, \"startYear\"] = movie_time[i]\n",
    "    i+=1"
   ]
  },
  {
   "cell_type": "code",
   "execution_count": 18,
   "metadata": {},
   "outputs": [
    {
     "data": {
      "text/plain": [
       "0"
      ]
     },
     "execution_count": 18,
     "metadata": {},
     "output_type": "execute_result"
    }
   ],
   "source": [
    "df.startYear.isnull().sum()"
   ]
  },
  {
   "cell_type": "code",
   "execution_count": 19,
   "metadata": {},
   "outputs": [
    {
     "data": {
      "image/png": "[encoded data removed]",
      "text/plain": [
       "<Figure size 432x288 with 1 Axes>"
      ]
     },
     "metadata": {
      "needs_background": "light"
     },
     "output_type": "display_data"
    }
   ],
   "source": [
    "df.startYear.plot.box()\n",
    "plt.show()"
   ]
  },
  {
   "cell_type": "code",
   "execution_count": 20,
   "metadata": {},
   "outputs": [
    {
     "data": {
      "image/png": "[encoded data removed]",
      "text/plain": [
       "<Figure size 432x288 with 1 Axes>"
      ]
     },
     "metadata": {
      "needs_background": "light"
     },
     "output_type": "display_data"
    }
   ],
   "source": [
    "df.startYear.plot.kde()\n",
    "plt.show()"
   ]
  },
  {
   "cell_type": "markdown",
   "metadata": {},
   "source": [
    "Let us now check the runtime minutes. We have about 1401 values which are missing for run time. There are multiple ways to deal with this (remove these null values, replace them with a metrics or interpolate these values). Since we have 1401 values, I did not want to loose this much data, So I decided to replace these with mean (which is 99.67). Also looking at the boxplot it shows that we have some outliers, but one is really odd, it has a value of 5000 minutes, so I decided to remove it. Histogram shows that most movies are between 70 - 120 mimutes long."
   ]
  },
  {
   "cell_type": "code",
   "execution_count": 21,
   "metadata": {},
   "outputs": [
    {
     "data": {
      "text/plain": [
       "1401"
      ]
     },
     "execution_count": 21,
     "metadata": {},
     "output_type": "execute_result"
    }
   ],
   "source": [
    "df.runtimeMinutes.isnull().sum()"
   ]
  },
  {
   "cell_type": "code",
   "execution_count": 22,
   "metadata": {},
   "outputs": [
    {
     "data": {
      "text/plain": [
       "99.67314248496382"
      ]
     },
     "execution_count": 22,
     "metadata": {},
     "output_type": "execute_result"
    }
   ],
   "source": [
    "df.runtimeMinutes.mean()"
   ]
  },
  {
   "cell_type": "code",
   "execution_count": 23,
   "metadata": {},
   "outputs": [
    {
     "name": "stderr",
     "output_type": "stream",
     "text": [
      "E:\\software_data\\Anaconda\\envs\\Data Science\\lib\\site-packages\\pandas\\core\\generic.py:5303: SettingWithCopyWarning: \n",
      "A value is trying to be set on a copy of a slice from a DataFrame.\n",
      "Try using .loc[row_indexer,col_indexer] = value instead\n",
      "\n",
      "See the caveats in the documentation: https://pandas.pydata.org/pandas-docs/stable/user_guide/indexing.html#returning-a-view-versus-a-copy\n",
      "  self[name] = value\n"
     ]
    }
   ],
   "source": [
    "df[df.runtimeMinutes.isnull()].runtimeMinutes = df.runtimeMinutes.mean()"
   ]
  },
  {
   "cell_type": "code",
   "execution_count": 24,
   "metadata": {},
   "outputs": [
    {
     "data": {
      "image/png": "[encoded data removed]",
      "text/plain": [
       "<Figure size 432x288 with 1 Axes>"
      ]
     },
     "metadata": {
      "needs_background": "light"
     },
     "output_type": "display_data"
    }
   ],
   "source": [
    "df.runtimeMinutes.plot.box()\n",
    "plt.show()"
   ]
  },
  {
   "cell_type": "code",
   "execution_count": 25,
   "metadata": {},
   "outputs": [],
   "source": [
    "df = df[df.runtimeMinutes < 4000]"
   ]
  },
  {
   "cell_type": "code",
   "execution_count": 26,
   "metadata": {},
   "outputs": [
    {
     "data": {
      "image/png": "[encoded data removed]",
      "text/plain": [
       "<Figure size 432x288 with 1 Axes>"
      ]
     },
     "metadata": {
      "needs_background": "light"
     },
     "output_type": "display_data"
    }
   ],
   "source": [
    "df.runtimeMinutes[df.runtimeMinutes < 300].hist(bins=100)\n",
    "plt.show()"
   ]
  },
  {
   "cell_type": "markdown",
   "metadata": {},
   "source": [
    "We also checked genre for these movies. The bar plot shows that, The top movie genre category is Drama, followed by Comedy and Romance."
   ]
  },
  {
   "cell_type": "code",
   "execution_count": 27,
   "metadata": {},
   "outputs": [
    {
     "data": {
      "text/html": [
       "<div>\n",
       "<style scoped>\n",
       "    .dataframe tbody tr th:only-of-type {\n",
       "        vertical-align: middle;\n",
       "    }\n",
       "\n",
       "    .dataframe tbody tr th {\n",
       "        vertical-align: top;\n",
       "    }\n",
       "\n",
       "    .dataframe thead th {\n",
       "        text-align: right;\n",
       "    }\n",
       "</style>\n",
       "<table border=\"1\" class=\"dataframe\">\n",
       "  <thead>\n",
       "    <tr style=\"text-align: right;\">\n",
       "      <th></th>\n",
       "      <th>Action</th>\n",
       "      <th>Adult</th>\n",
       "      <th>Adventure</th>\n",
       "      <th>Animation</th>\n",
       "      <th>Biography</th>\n",
       "      <th>Comedy</th>\n",
       "      <th>Crime</th>\n",
       "      <th>Documentary</th>\n",
       "      <th>Drama</th>\n",
       "      <th>Family</th>\n",
       "      <th>...</th>\n",
       "      <th>News</th>\n",
       "      <th>Reality-TV</th>\n",
       "      <th>Romance</th>\n",
       "      <th>Sci-Fi</th>\n",
       "      <th>Short</th>\n",
       "      <th>Sport</th>\n",
       "      <th>Talk-Show</th>\n",
       "      <th>Thriller</th>\n",
       "      <th>War</th>\n",
       "      <th>Western</th>\n",
       "    </tr>\n",
       "  </thead>\n",
       "  <tbody>\n",
       "    <tr>\n",
       "      <th>374</th>\n",
       "      <td>1</td>\n",
       "      <td>0</td>\n",
       "      <td>1</td>\n",
       "      <td>0</td>\n",
       "      <td>1</td>\n",
       "      <td>0</td>\n",
       "      <td>0</td>\n",
       "      <td>0</td>\n",
       "      <td>0</td>\n",
       "      <td>0</td>\n",
       "      <td>...</td>\n",
       "      <td>0</td>\n",
       "      <td>0</td>\n",
       "      <td>0</td>\n",
       "      <td>0</td>\n",
       "      <td>0</td>\n",
       "      <td>0</td>\n",
       "      <td>0</td>\n",
       "      <td>0</td>\n",
       "      <td>0</td>\n",
       "      <td>0</td>\n",
       "    </tr>\n",
       "    <tr>\n",
       "      <th>758</th>\n",
       "      <td>0</td>\n",
       "      <td>0</td>\n",
       "      <td>0</td>\n",
       "      <td>0</td>\n",
       "      <td>0</td>\n",
       "      <td>0</td>\n",
       "      <td>0</td>\n",
       "      <td>0</td>\n",
       "      <td>1</td>\n",
       "      <td>0</td>\n",
       "      <td>...</td>\n",
       "      <td>0</td>\n",
       "      <td>0</td>\n",
       "      <td>0</td>\n",
       "      <td>0</td>\n",
       "      <td>0</td>\n",
       "      <td>0</td>\n",
       "      <td>0</td>\n",
       "      <td>0</td>\n",
       "      <td>0</td>\n",
       "      <td>0</td>\n",
       "    </tr>\n",
       "    <tr>\n",
       "      <th>933</th>\n",
       "      <td>0</td>\n",
       "      <td>0</td>\n",
       "      <td>0</td>\n",
       "      <td>0</td>\n",
       "      <td>0</td>\n",
       "      <td>0</td>\n",
       "      <td>0</td>\n",
       "      <td>0</td>\n",
       "      <td>1</td>\n",
       "      <td>0</td>\n",
       "      <td>...</td>\n",
       "      <td>0</td>\n",
       "      <td>0</td>\n",
       "      <td>0</td>\n",
       "      <td>0</td>\n",
       "      <td>0</td>\n",
       "      <td>0</td>\n",
       "      <td>0</td>\n",
       "      <td>0</td>\n",
       "      <td>0</td>\n",
       "      <td>0</td>\n",
       "    </tr>\n",
       "    <tr>\n",
       "      <th>983</th>\n",
       "      <td>0</td>\n",
       "      <td>0</td>\n",
       "      <td>0</td>\n",
       "      <td>0</td>\n",
       "      <td>0</td>\n",
       "      <td>0</td>\n",
       "      <td>0</td>\n",
       "      <td>0</td>\n",
       "      <td>1</td>\n",
       "      <td>0</td>\n",
       "      <td>...</td>\n",
       "      <td>0</td>\n",
       "      <td>0</td>\n",
       "      <td>0</td>\n",
       "      <td>0</td>\n",
       "      <td>0</td>\n",
       "      <td>0</td>\n",
       "      <td>0</td>\n",
       "      <td>0</td>\n",
       "      <td>0</td>\n",
       "      <td>0</td>\n",
       "    </tr>\n",
       "    <tr>\n",
       "      <th>991</th>\n",
       "      <td>0</td>\n",
       "      <td>0</td>\n",
       "      <td>1</td>\n",
       "      <td>0</td>\n",
       "      <td>0</td>\n",
       "      <td>0</td>\n",
       "      <td>0</td>\n",
       "      <td>0</td>\n",
       "      <td>1</td>\n",
       "      <td>0</td>\n",
       "      <td>...</td>\n",
       "      <td>0</td>\n",
       "      <td>0</td>\n",
       "      <td>0</td>\n",
       "      <td>0</td>\n",
       "      <td>0</td>\n",
       "      <td>0</td>\n",
       "      <td>0</td>\n",
       "      <td>0</td>\n",
       "      <td>0</td>\n",
       "      <td>0</td>\n",
       "    </tr>\n",
       "  </tbody>\n",
       "</table>\n",
       "<p>5 rows × 27 columns</p>\n",
       "</div>"
      ],
      "text/plain": [
       "     Action  Adult  Adventure  Animation  Biography  Comedy  Crime  \\\n",
       "374       1      0          1          0          1       0      0   \n",
       "758       0      0          0          0          0       0      0   \n",
       "933       0      0          0          0          0       0      0   \n",
       "983       0      0          0          0          0       0      0   \n",
       "991       0      0          1          0          0       0      0   \n",
       "\n",
       "     Documentary  Drama  Family  ...  News  Reality-TV  Romance  Sci-Fi  \\\n",
       "374            0      0       0  ...     0           0        0       0   \n",
       "758            0      1       0  ...     0           0        0       0   \n",
       "933            0      1       0  ...     0           0        0       0   \n",
       "983            0      1       0  ...     0           0        0       0   \n",
       "991            0      1       0  ...     0           0        0       0   \n",
       "\n",
       "     Short  Sport  Talk-Show  Thriller  War  Western  \n",
       "374      0      0          0         0    0        0  \n",
       "758      0      0          0         0    0        0  \n",
       "933      0      0          0         0    0        0  \n",
       "983      0      0          0         0    0        0  \n",
       "991      0      0          0         0    0        0  \n",
       "\n",
       "[5 rows x 27 columns]"
      ]
     },
     "execution_count": 27,
     "metadata": {},
     "output_type": "execute_result"
    }
   ],
   "source": [
    "df_genres = df.genres.str.get_dummies( sep=',')\n",
    "df_genres.head()"
   ]
  },
  {
   "cell_type": "code",
   "execution_count": 28,
   "metadata": {},
   "outputs": [
    {
     "data": {
      "image/png": "[encoded data removed]",
      "text/plain": [
       "<Figure size 432x288 with 1 Axes>"
      ]
     },
     "metadata": {
      "needs_background": "light"
     },
     "output_type": "display_data"
    }
   ],
   "source": [
    "df_genres.sum().plot(kind='bar')\n",
    "plt.show()"
   ]
  },
  {
   "cell_type": "markdown",
   "metadata": {},
   "source": [
    "Lets add this to the main dataset and drop the genre category."
   ]
  },
  {
   "cell_type": "code",
   "execution_count": 29,
   "metadata": {},
   "outputs": [],
   "source": [
    "gen_class = []\n",
    "for col in df_genres.columns:\n",
    "    gen_class.append(\"genre_\"+col)\n",
    "\n",
    "df_genres.columns = gen_class"
   ]
  },
  {
   "cell_type": "code",
   "execution_count": 30,
   "metadata": {},
   "outputs": [
    {
     "data": {
      "text/html": [
       "<div>\n",
       "<style scoped>\n",
       "    .dataframe tbody tr th:only-of-type {\n",
       "        vertical-align: middle;\n",
       "    }\n",
       "\n",
       "    .dataframe tbody tr th {\n",
       "        vertical-align: top;\n",
       "    }\n",
       "\n",
       "    .dataframe thead th {\n",
       "        text-align: right;\n",
       "    }\n",
       "</style>\n",
       "<table border=\"1\" class=\"dataframe\">\n",
       "  <thead>\n",
       "    <tr style=\"text-align: right;\">\n",
       "      <th></th>\n",
       "      <th>tconst</th>\n",
       "      <th>averageRating</th>\n",
       "      <th>numVotes</th>\n",
       "      <th>primaryTitle</th>\n",
       "      <th>originalTitle</th>\n",
       "      <th>isAdult</th>\n",
       "      <th>startYear</th>\n",
       "      <th>runtimeMinutes</th>\n",
       "      <th>genre_Action</th>\n",
       "      <th>genre_Adult</th>\n",
       "      <th>...</th>\n",
       "      <th>genre_News</th>\n",
       "      <th>genre_Reality-TV</th>\n",
       "      <th>genre_Romance</th>\n",
       "      <th>genre_Sci-Fi</th>\n",
       "      <th>genre_Short</th>\n",
       "      <th>genre_Sport</th>\n",
       "      <th>genre_Talk-Show</th>\n",
       "      <th>genre_Thriller</th>\n",
       "      <th>genre_War</th>\n",
       "      <th>genre_Western</th>\n",
       "    </tr>\n",
       "  </thead>\n",
       "  <tbody>\n",
       "    <tr>\n",
       "      <th>374</th>\n",
       "      <td>tt0000574</td>\n",
       "      <td>6.1</td>\n",
       "      <td>631</td>\n",
       "      <td>The Story of the Kelly Gang</td>\n",
       "      <td>The Story of the Kelly Gang</td>\n",
       "      <td>0</td>\n",
       "      <td>1906.0</td>\n",
       "      <td>70.0</td>\n",
       "      <td>1</td>\n",
       "      <td>0</td>\n",
       "      <td>...</td>\n",
       "      <td>0</td>\n",
       "      <td>0</td>\n",
       "      <td>0</td>\n",
       "      <td>0</td>\n",
       "      <td>0</td>\n",
       "      <td>0</td>\n",
       "      <td>0</td>\n",
       "      <td>0</td>\n",
       "      <td>0</td>\n",
       "      <td>0</td>\n",
       "    </tr>\n",
       "    <tr>\n",
       "      <th>758</th>\n",
       "      <td>tt0001258</td>\n",
       "      <td>5.7</td>\n",
       "      <td>101</td>\n",
       "      <td>The White Slave Trade</td>\n",
       "      <td>Den hvide slavehandel</td>\n",
       "      <td>0</td>\n",
       "      <td>1910.0</td>\n",
       "      <td>45.0</td>\n",
       "      <td>0</td>\n",
       "      <td>0</td>\n",
       "      <td>...</td>\n",
       "      <td>0</td>\n",
       "      <td>0</td>\n",
       "      <td>0</td>\n",
       "      <td>0</td>\n",
       "      <td>0</td>\n",
       "      <td>0</td>\n",
       "      <td>0</td>\n",
       "      <td>0</td>\n",
       "      <td>0</td>\n",
       "      <td>0</td>\n",
       "    </tr>\n",
       "    <tr>\n",
       "      <th>933</th>\n",
       "      <td>tt0001892</td>\n",
       "      <td>5.8</td>\n",
       "      <td>194</td>\n",
       "      <td>Den sorte drøm</td>\n",
       "      <td>Den sorte drøm</td>\n",
       "      <td>0</td>\n",
       "      <td>1911.0</td>\n",
       "      <td>53.0</td>\n",
       "      <td>0</td>\n",
       "      <td>0</td>\n",
       "      <td>...</td>\n",
       "      <td>0</td>\n",
       "      <td>0</td>\n",
       "      <td>0</td>\n",
       "      <td>0</td>\n",
       "      <td>0</td>\n",
       "      <td>0</td>\n",
       "      <td>0</td>\n",
       "      <td>0</td>\n",
       "      <td>0</td>\n",
       "      <td>0</td>\n",
       "    </tr>\n",
       "    <tr>\n",
       "      <th>983</th>\n",
       "      <td>tt0002101</td>\n",
       "      <td>5.2</td>\n",
       "      <td>462</td>\n",
       "      <td>Cleopatra</td>\n",
       "      <td>Cleopatra</td>\n",
       "      <td>0</td>\n",
       "      <td>1912.0</td>\n",
       "      <td>100.0</td>\n",
       "      <td>0</td>\n",
       "      <td>0</td>\n",
       "      <td>...</td>\n",
       "      <td>0</td>\n",
       "      <td>0</td>\n",
       "      <td>0</td>\n",
       "      <td>0</td>\n",
       "      <td>0</td>\n",
       "      <td>0</td>\n",
       "      <td>0</td>\n",
       "      <td>0</td>\n",
       "      <td>0</td>\n",
       "      <td>0</td>\n",
       "    </tr>\n",
       "    <tr>\n",
       "      <th>991</th>\n",
       "      <td>tt0002130</td>\n",
       "      <td>7.1</td>\n",
       "      <td>2430</td>\n",
       "      <td>Dante's Inferno</td>\n",
       "      <td>L'Inferno</td>\n",
       "      <td>0</td>\n",
       "      <td>1911.0</td>\n",
       "      <td>71.0</td>\n",
       "      <td>0</td>\n",
       "      <td>0</td>\n",
       "      <td>...</td>\n",
       "      <td>0</td>\n",
       "      <td>0</td>\n",
       "      <td>0</td>\n",
       "      <td>0</td>\n",
       "      <td>0</td>\n",
       "      <td>0</td>\n",
       "      <td>0</td>\n",
       "      <td>0</td>\n",
       "      <td>0</td>\n",
       "      <td>0</td>\n",
       "    </tr>\n",
       "  </tbody>\n",
       "</table>\n",
       "<p>5 rows × 35 columns</p>\n",
       "</div>"
      ],
      "text/plain": [
       "        tconst  averageRating  numVotes                 primaryTitle  \\\n",
       "374  tt0000574            6.1       631  The Story of the Kelly Gang   \n",
       "758  tt0001258            5.7       101        The White Slave Trade   \n",
       "933  tt0001892            5.8       194               Den sorte drøm   \n",
       "983  tt0002101            5.2       462                    Cleopatra   \n",
       "991  tt0002130            7.1      2430              Dante's Inferno   \n",
       "\n",
       "                   originalTitle  isAdult  startYear  runtimeMinutes  \\\n",
       "374  The Story of the Kelly Gang        0     1906.0            70.0   \n",
       "758        Den hvide slavehandel        0     1910.0            45.0   \n",
       "933               Den sorte drøm        0     1911.0            53.0   \n",
       "983                    Cleopatra        0     1912.0           100.0   \n",
       "991                    L'Inferno        0     1911.0            71.0   \n",
       "\n",
       "     genre_Action  genre_Adult  ...  genre_News  genre_Reality-TV  \\\n",
       "374             1            0  ...           0                 0   \n",
       "758             0            0  ...           0                 0   \n",
       "933             0            0  ...           0                 0   \n",
       "983             0            0  ...           0                 0   \n",
       "991             0            0  ...           0                 0   \n",
       "\n",
       "     genre_Romance  genre_Sci-Fi  genre_Short  genre_Sport  genre_Talk-Show  \\\n",
       "374              0             0            0            0                0   \n",
       "758              0             0            0            0                0   \n",
       "933              0             0            0            0                0   \n",
       "983              0             0            0            0                0   \n",
       "991              0             0            0            0                0   \n",
       "\n",
       "     genre_Thriller  genre_War  genre_Western  \n",
       "374               0          0              0  \n",
       "758               0          0              0  \n",
       "933               0          0              0  \n",
       "983               0          0              0  \n",
       "991               0          0              0  \n",
       "\n",
       "[5 rows x 35 columns]"
      ]
     },
     "execution_count": 30,
     "metadata": {},
     "output_type": "execute_result"
    }
   ],
   "source": [
    "df = pd.concat([df, df_genres], axis=1)\n",
    "df = df.drop([\"genres\"], axis=1)\n",
    "df.head()"
   ]
  },
  {
   "cell_type": "markdown",
   "metadata": {},
   "source": [
    "We have about 294 rows which are listed as adult"
   ]
  },
  {
   "cell_type": "code",
   "execution_count": 31,
   "metadata": {},
   "outputs": [
    {
     "data": {
      "text/plain": [
       "0    97968\n",
       "1      294\n",
       "Name: isAdult, dtype: int64"
      ]
     },
     "execution_count": 31,
     "metadata": {},
     "output_type": "execute_result"
    }
   ],
   "source": [
    "df.isAdult.value_counts()"
   ]
  },
  {
   "cell_type": "markdown",
   "metadata": {},
   "source": [
    "## Analysis"
   ]
  },
  {
   "cell_type": "markdown",
   "metadata": {},
   "source": [
    "Now that we have prepared the dataset. We will be using it for the analysis. The main goal is to predict the average rating. We removed other columsn like \"tconst\", \"primarytitle\" and \"orginalTitle\"."
   ]
  },
  {
   "cell_type": "code",
   "execution_count": 32,
   "metadata": {},
   "outputs": [
    {
     "name": "stdout",
     "output_type": "stream",
     "text": [
      "<class 'pandas.core.frame.DataFrame'>\n",
      "Int64Index: 98262 entries, 374 to 1141944\n",
      "Data columns (total 35 columns):\n",
      " #   Column             Non-Null Count  Dtype  \n",
      "---  ------             --------------  -----  \n",
      " 0   tconst             98262 non-null  object \n",
      " 1   averageRating      98262 non-null  float64\n",
      " 2   numVotes           98262 non-null  int64  \n",
      " 3   primaryTitle       98262 non-null  object \n",
      " 4   originalTitle      98262 non-null  object \n",
      " 5   isAdult            98262 non-null  int32  \n",
      " 6   startYear          98262 non-null  float64\n",
      " 7   runtimeMinutes     98262 non-null  float64\n",
      " 8   genre_Action       98262 non-null  int64  \n",
      " 9   genre_Adult        98262 non-null  int64  \n",
      " 10  genre_Adventure    98262 non-null  int64  \n",
      " 11  genre_Animation    98262 non-null  int64  \n",
      " 12  genre_Biography    98262 non-null  int64  \n",
      " 13  genre_Comedy       98262 non-null  int64  \n",
      " 14  genre_Crime        98262 non-null  int64  \n",
      " 15  genre_Documentary  98262 non-null  int64  \n",
      " 16  genre_Drama        98262 non-null  int64  \n",
      " 17  genre_Family       98262 non-null  int64  \n",
      " 18  genre_Fantasy      98262 non-null  int64  \n",
      " 19  genre_Film-Noir    98262 non-null  int64  \n",
      " 20  genre_History      98262 non-null  int64  \n",
      " 21  genre_Horror       98262 non-null  int64  \n",
      " 22  genre_Music        98262 non-null  int64  \n",
      " 23  genre_Musical      98262 non-null  int64  \n",
      " 24  genre_Mystery      98262 non-null  int64  \n",
      " 25  genre_News         98262 non-null  int64  \n",
      " 26  genre_Reality-TV   98262 non-null  int64  \n",
      " 27  genre_Romance      98262 non-null  int64  \n",
      " 28  genre_Sci-Fi       98262 non-null  int64  \n",
      " 29  genre_Short        98262 non-null  int64  \n",
      " 30  genre_Sport        98262 non-null  int64  \n",
      " 31  genre_Talk-Show    98262 non-null  int64  \n",
      " 32  genre_Thriller     98262 non-null  int64  \n",
      " 33  genre_War          98262 non-null  int64  \n",
      " 34  genre_Western      98262 non-null  int64  \n",
      "dtypes: float64(3), int32(1), int64(28), object(3)\n",
      "memory usage: 26.6+ MB\n"
     ]
    }
   ],
   "source": [
    "df.info()"
   ]
  },
  {
   "cell_type": "code",
   "execution_count": 33,
   "metadata": {},
   "outputs": [
    {
     "data": {
      "text/html": [
       "<div>\n",
       "<style scoped>\n",
       "    .dataframe tbody tr th:only-of-type {\n",
       "        vertical-align: middle;\n",
       "    }\n",
       "\n",
       "    .dataframe tbody tr th {\n",
       "        vertical-align: top;\n",
       "    }\n",
       "\n",
       "    .dataframe thead th {\n",
       "        text-align: right;\n",
       "    }\n",
       "</style>\n",
       "<table border=\"1\" class=\"dataframe\">\n",
       "  <thead>\n",
       "    <tr style=\"text-align: right;\">\n",
       "      <th></th>\n",
       "      <th>averageRating</th>\n",
       "      <th>isAdult</th>\n",
       "      <th>startYear</th>\n",
       "      <th>runtimeMinutes</th>\n",
       "      <th>genre_Action</th>\n",
       "      <th>genre_Adult</th>\n",
       "      <th>genre_Adventure</th>\n",
       "      <th>genre_Animation</th>\n",
       "      <th>genre_Biography</th>\n",
       "      <th>genre_Comedy</th>\n",
       "      <th>...</th>\n",
       "      <th>genre_News</th>\n",
       "      <th>genre_Reality-TV</th>\n",
       "      <th>genre_Romance</th>\n",
       "      <th>genre_Sci-Fi</th>\n",
       "      <th>genre_Short</th>\n",
       "      <th>genre_Sport</th>\n",
       "      <th>genre_Talk-Show</th>\n",
       "      <th>genre_Thriller</th>\n",
       "      <th>genre_War</th>\n",
       "      <th>genre_Western</th>\n",
       "    </tr>\n",
       "  </thead>\n",
       "  <tbody>\n",
       "    <tr>\n",
       "      <th>374</th>\n",
       "      <td>6.1</td>\n",
       "      <td>0</td>\n",
       "      <td>1906.0</td>\n",
       "      <td>70.0</td>\n",
       "      <td>1</td>\n",
       "      <td>0</td>\n",
       "      <td>1</td>\n",
       "      <td>0</td>\n",
       "      <td>1</td>\n",
       "      <td>0</td>\n",
       "      <td>...</td>\n",
       "      <td>0</td>\n",
       "      <td>0</td>\n",
       "      <td>0</td>\n",
       "      <td>0</td>\n",
       "      <td>0</td>\n",
       "      <td>0</td>\n",
       "      <td>0</td>\n",
       "      <td>0</td>\n",
       "      <td>0</td>\n",
       "      <td>0</td>\n",
       "    </tr>\n",
       "    <tr>\n",
       "      <th>758</th>\n",
       "      <td>5.7</td>\n",
       "      <td>0</td>\n",
       "      <td>1910.0</td>\n",
       "      <td>45.0</td>\n",
       "      <td>0</td>\n",
       "      <td>0</td>\n",
       "      <td>0</td>\n",
       "      <td>0</td>\n",
       "      <td>0</td>\n",
       "      <td>0</td>\n",
       "      <td>...</td>\n",
       "      <td>0</td>\n",
       "      <td>0</td>\n",
       "      <td>0</td>\n",
       "      <td>0</td>\n",
       "      <td>0</td>\n",
       "      <td>0</td>\n",
       "      <td>0</td>\n",
       "      <td>0</td>\n",
       "      <td>0</td>\n",
       "      <td>0</td>\n",
       "    </tr>\n",
       "    <tr>\n",
       "      <th>933</th>\n",
       "      <td>5.8</td>\n",
       "      <td>0</td>\n",
       "      <td>1911.0</td>\n",
       "      <td>53.0</td>\n",
       "      <td>0</td>\n",
       "      <td>0</td>\n",
       "      <td>0</td>\n",
       "      <td>0</td>\n",
       "      <td>0</td>\n",
       "      <td>0</td>\n",
       "      <td>...</td>\n",
       "      <td>0</td>\n",
       "      <td>0</td>\n",
       "      <td>0</td>\n",
       "      <td>0</td>\n",
       "      <td>0</td>\n",
       "      <td>0</td>\n",
       "      <td>0</td>\n",
       "      <td>0</td>\n",
       "      <td>0</td>\n",
       "      <td>0</td>\n",
       "    </tr>\n",
       "    <tr>\n",
       "      <th>983</th>\n",
       "      <td>5.2</td>\n",
       "      <td>0</td>\n",
       "      <td>1912.0</td>\n",
       "      <td>100.0</td>\n",
       "      <td>0</td>\n",
       "      <td>0</td>\n",
       "      <td>0</td>\n",
       "      <td>0</td>\n",
       "      <td>0</td>\n",
       "      <td>0</td>\n",
       "      <td>...</td>\n",
       "      <td>0</td>\n",
       "      <td>0</td>\n",
       "      <td>0</td>\n",
       "      <td>0</td>\n",
       "      <td>0</td>\n",
       "      <td>0</td>\n",
       "      <td>0</td>\n",
       "      <td>0</td>\n",
       "      <td>0</td>\n",
       "      <td>0</td>\n",
       "    </tr>\n",
       "    <tr>\n",
       "      <th>991</th>\n",
       "      <td>7.1</td>\n",
       "      <td>0</td>\n",
       "      <td>1911.0</td>\n",
       "      <td>71.0</td>\n",
       "      <td>0</td>\n",
       "      <td>0</td>\n",
       "      <td>1</td>\n",
       "      <td>0</td>\n",
       "      <td>0</td>\n",
       "      <td>0</td>\n",
       "      <td>...</td>\n",
       "      <td>0</td>\n",
       "      <td>0</td>\n",
       "      <td>0</td>\n",
       "      <td>0</td>\n",
       "      <td>0</td>\n",
       "      <td>0</td>\n",
       "      <td>0</td>\n",
       "      <td>0</td>\n",
       "      <td>0</td>\n",
       "      <td>0</td>\n",
       "    </tr>\n",
       "  </tbody>\n",
       "</table>\n",
       "<p>5 rows × 31 columns</p>\n",
       "</div>"
      ],
      "text/plain": [
       "     averageRating  isAdult  startYear  runtimeMinutes  genre_Action  \\\n",
       "374            6.1        0     1906.0            70.0             1   \n",
       "758            5.7        0     1910.0            45.0             0   \n",
       "933            5.8        0     1911.0            53.0             0   \n",
       "983            5.2        0     1912.0           100.0             0   \n",
       "991            7.1        0     1911.0            71.0             0   \n",
       "\n",
       "     genre_Adult  genre_Adventure  genre_Animation  genre_Biography  \\\n",
       "374            0                1                0                1   \n",
       "758            0                0                0                0   \n",
       "933            0                0                0                0   \n",
       "983            0                0                0                0   \n",
       "991            0                1                0                0   \n",
       "\n",
       "     genre_Comedy  ...  genre_News  genre_Reality-TV  genre_Romance  \\\n",
       "374             0  ...           0                 0              0   \n",
       "758             0  ...           0                 0              0   \n",
       "933             0  ...           0                 0              0   \n",
       "983             0  ...           0                 0              0   \n",
       "991             0  ...           0                 0              0   \n",
       "\n",
       "     genre_Sci-Fi  genre_Short  genre_Sport  genre_Talk-Show  genre_Thriller  \\\n",
       "374             0            0            0                0               0   \n",
       "758             0            0            0                0               0   \n",
       "933             0            0            0                0               0   \n",
       "983             0            0            0                0               0   \n",
       "991             0            0            0                0               0   \n",
       "\n",
       "     genre_War  genre_Western  \n",
       "374          0              0  \n",
       "758          0              0  \n",
       "933          0              0  \n",
       "983          0              0  \n",
       "991          0              0  \n",
       "\n",
       "[5 rows x 31 columns]"
      ]
     },
     "execution_count": 33,
     "metadata": {},
     "output_type": "execute_result"
    }
   ],
   "source": [
    "df_analysis = df.drop([\"tconst\", \"numVotes\", \"primaryTitle\", \"originalTitle\"], axis=1)\n",
    "df_analysis.head()"
   ]
  },
  {
   "cell_type": "code",
   "execution_count": 34,
   "metadata": {},
   "outputs": [
    {
     "data": {
      "text/plain": [
       "98262"
      ]
     },
     "execution_count": 34,
     "metadata": {},
     "output_type": "execute_result"
    }
   ],
   "source": [
    "len(df_analysis)"
   ]
  },
  {
   "cell_type": "code",
   "execution_count": 35,
   "metadata": {},
   "outputs": [
    {
     "data": {
      "image/png": "[encoded data removed]",
      "text/plain": [
       "<Figure size 1080x1080 with 2 Axes>"
      ]
     },
     "metadata": {
      "needs_background": "light"
     },
     "output_type": "display_data"
    }
   ],
   "source": [
    "plt.figure(figsize=(15,15))\n",
    "sns.heatmap(df_analysis.corr())\n",
    "plt.show()"
   ]
  },
  {
   "cell_type": "markdown",
   "metadata": {},
   "source": [
    "All the columns looks non related, except \"genre_adult\" and \"isAdult\" which are highly realated. So I decided to remove \"isAdult\" Column."
   ]
  },
  {
   "cell_type": "code",
   "execution_count": 36,
   "metadata": {},
   "outputs": [],
   "source": [
    "df_analysis = df_analysis.drop([\"isAdult\"], axis=1)"
   ]
  },
  {
   "cell_type": "code",
   "execution_count": 37,
   "metadata": {},
   "outputs": [],
   "source": [
    "Y = df_analysis.averageRating\n",
    "X = df_analysis.drop([\"averageRating\"], axis=1)"
   ]
  },
  {
   "cell_type": "code",
   "execution_count": 38,
   "metadata": {},
   "outputs": [],
   "source": [
    "x_train, x_test, y_train, y_test = train_test_split(X, Y, \n",
    "                                                    test_size = 0.15,\n",
    "                                                   random_state=1289)"
   ]
  },
  {
   "cell_type": "code",
   "execution_count": 39,
   "metadata": {},
   "outputs": [
    {
     "name": "stdout",
     "output_type": "stream",
     "text": [
      "Length of train set:  83522\n",
      "Length of test set:  14740\n"
     ]
    }
   ],
   "source": [
    "print(\"Length of train set: \", len(x_train))\n",
    "print(\"Length of test set: \", len(x_test))"
   ]
  },
  {
   "cell_type": "markdown",
   "metadata": {},
   "source": [
    "#### Model"
   ]
  },
  {
   "cell_type": "code",
   "execution_count": 40,
   "metadata": {},
   "outputs": [
    {
     "data": {
      "text/html": [
       "<table class=\"simpletable\">\n",
       "<caption>OLS Regression Results</caption>\n",
       "<tr>\n",
       "  <th>Dep. Variable:</th>      <td>averageRating</td>  <th>  R-squared (uncentered):</th>       <td>   0.968</td>  \n",
       "</tr>\n",
       "<tr>\n",
       "  <th>Model:</th>                   <td>OLS</td>       <th>  Adj. R-squared (uncentered):</th>  <td>   0.968</td>  \n",
       "</tr>\n",
       "<tr>\n",
       "  <th>Method:</th>             <td>Least Squares</td>  <th>  F-statistic:       </th>           <td>1.015e+05</td> \n",
       "</tr>\n",
       "<tr>\n",
       "  <th>Date:</th>             <td>Mon, 19 Apr 2021</td> <th>  Prob (F-statistic):</th>            <td>  0.00</td>   \n",
       "</tr>\n",
       "<tr>\n",
       "  <th>Time:</th>                 <td>06:03:51</td>     <th>  Log-Likelihood:    </th>          <td>-1.4863e+05</td>\n",
       "</tr>\n",
       "<tr>\n",
       "  <th>No. Observations:</th>      <td> 98262</td>      <th>  AIC:               </th>           <td>2.973e+05</td> \n",
       "</tr>\n",
       "<tr>\n",
       "  <th>Df Residuals:</th>          <td> 98233</td>      <th>  BIC:               </th>           <td>2.976e+05</td> \n",
       "</tr>\n",
       "<tr>\n",
       "  <th>Df Model:</th>              <td>    29</td>      <th>                     </th>               <td> </td>     \n",
       "</tr>\n",
       "<tr>\n",
       "  <th>Covariance Type:</th>      <td>nonrobust</td>    <th>                     </th>               <td> </td>     \n",
       "</tr>\n",
       "</table>\n",
       "<table class=\"simpletable\">\n",
       "<tr>\n",
       "          <td></td>             <th>coef</th>     <th>std err</th>      <th>t</th>      <th>P>|t|</th>  <th>[0.025</th>    <th>0.975]</th>  \n",
       "</tr>\n",
       "<tr>\n",
       "  <th>startYear</th>         <td>    0.0024</td> <td> 8.89e-06</td> <td>  272.792</td> <td> 0.000</td> <td>    0.002</td> <td>    0.002</td>\n",
       "</tr>\n",
       "<tr>\n",
       "  <th>runtimeMinutes</th>    <td>    0.0081</td> <td>    0.000</td> <td>   56.253</td> <td> 0.000</td> <td>    0.008</td> <td>    0.008</td>\n",
       "</tr>\n",
       "<tr>\n",
       "  <th>genre_Action</th>      <td>   -0.3195</td> <td>    0.011</td> <td>  -28.563</td> <td> 0.000</td> <td>   -0.341</td> <td>   -0.298</td>\n",
       "</tr>\n",
       "<tr>\n",
       "  <th>genre_Adult</th>       <td>    0.0686</td> <td>    0.068</td> <td>    1.007</td> <td> 0.314</td> <td>   -0.065</td> <td>    0.202</td>\n",
       "</tr>\n",
       "<tr>\n",
       "  <th>genre_Adventure</th>   <td>    0.0762</td> <td>    0.014</td> <td>    5.509</td> <td> 0.000</td> <td>    0.049</td> <td>    0.103</td>\n",
       "</tr>\n",
       "<tr>\n",
       "  <th>genre_Animation</th>   <td>    0.7566</td> <td>    0.024</td> <td>   31.275</td> <td> 0.000</td> <td>    0.709</td> <td>    0.804</td>\n",
       "</tr>\n",
       "<tr>\n",
       "  <th>genre_Biography</th>   <td>    0.2710</td> <td>    0.019</td> <td>   14.075</td> <td> 0.000</td> <td>    0.233</td> <td>    0.309</td>\n",
       "</tr>\n",
       "<tr>\n",
       "  <th>genre_Comedy</th>      <td>    0.0362</td> <td>    0.009</td> <td>    3.921</td> <td> 0.000</td> <td>    0.018</td> <td>    0.054</td>\n",
       "</tr>\n",
       "<tr>\n",
       "  <th>genre_Crime</th>       <td>    0.1735</td> <td>    0.011</td> <td>   15.206</td> <td> 0.000</td> <td>    0.151</td> <td>    0.196</td>\n",
       "</tr>\n",
       "<tr>\n",
       "  <th>genre_Documentary</th> <td>    1.3425</td> <td>    0.016</td> <td>   83.594</td> <td> 0.000</td> <td>    1.311</td> <td>    1.374</td>\n",
       "</tr>\n",
       "<tr>\n",
       "  <th>genre_Drama</th>       <td>    0.5034</td> <td>    0.009</td> <td>   55.773</td> <td> 0.000</td> <td>    0.486</td> <td>    0.521</td>\n",
       "</tr>\n",
       "<tr>\n",
       "  <th>genre_Family</th>      <td>   -0.0533</td> <td>    0.018</td> <td>   -2.985</td> <td> 0.003</td> <td>   -0.088</td> <td>   -0.018</td>\n",
       "</tr>\n",
       "<tr>\n",
       "  <th>genre_Fantasy</th>     <td>    0.0554</td> <td>    0.018</td> <td>    3.097</td> <td> 0.002</td> <td>    0.020</td> <td>    0.090</td>\n",
       "</tr>\n",
       "<tr>\n",
       "  <th>genre_Film-Noir</th>   <td>    0.6571</td> <td>    0.043</td> <td>   15.279</td> <td> 0.000</td> <td>    0.573</td> <td>    0.741</td>\n",
       "</tr>\n",
       "<tr>\n",
       "  <th>genre_History</th>     <td>    0.1993</td> <td>    0.021</td> <td>    9.634</td> <td> 0.000</td> <td>    0.159</td> <td>    0.240</td>\n",
       "</tr>\n",
       "<tr>\n",
       "  <th>genre_Horror</th>      <td>   -0.8126</td> <td>    0.013</td> <td>  -61.906</td> <td> 0.000</td> <td>   -0.838</td> <td>   -0.787</td>\n",
       "</tr>\n",
       "<tr>\n",
       "  <th>genre_Music</th>       <td>    0.2138</td> <td>    0.022</td> <td>    9.649</td> <td> 0.000</td> <td>    0.170</td> <td>    0.257</td>\n",
       "</tr>\n",
       "<tr>\n",
       "  <th>genre_Musical</th>     <td>    0.2974</td> <td>    0.025</td> <td>   12.137</td> <td> 0.000</td> <td>    0.249</td> <td>    0.345</td>\n",
       "</tr>\n",
       "<tr>\n",
       "  <th>genre_Mystery</th>     <td>    0.2046</td> <td>    0.016</td> <td>   13.047</td> <td> 0.000</td> <td>    0.174</td> <td>    0.235</td>\n",
       "</tr>\n",
       "<tr>\n",
       "  <th>genre_News</th>        <td>    0.1391</td> <td>    0.094</td> <td>    1.488</td> <td> 0.137</td> <td>   -0.044</td> <td>    0.322</td>\n",
       "</tr>\n",
       "<tr>\n",
       "  <th>genre_Reality-TV</th>  <td>   -0.3137</td> <td>    0.389</td> <td>   -0.807</td> <td> 0.419</td> <td>   -1.075</td> <td>    0.448</td>\n",
       "</tr>\n",
       "<tr>\n",
       "  <th>genre_Romance</th>     <td>    0.1105</td> <td>    0.010</td> <td>   10.749</td> <td> 0.000</td> <td>    0.090</td> <td>    0.131</td>\n",
       "</tr>\n",
       "<tr>\n",
       "  <th>genre_Sci-Fi</th>      <td>   -0.3416</td> <td>    0.019</td> <td>  -18.223</td> <td> 0.000</td> <td>   -0.378</td> <td>   -0.305</td>\n",
       "</tr>\n",
       "<tr>\n",
       "  <th>genre_Short</th>       <td>    0.9962</td> <td>    0.634</td> <td>    1.570</td> <td> 0.116</td> <td>   -0.247</td> <td>    2.239</td>\n",
       "</tr>\n",
       "<tr>\n",
       "  <th>genre_Sport</th>       <td>    0.0753</td> <td>    0.029</td> <td>    2.622</td> <td> 0.009</td> <td>    0.019</td> <td>    0.132</td>\n",
       "</tr>\n",
       "<tr>\n",
       "  <th>genre_Talk-Show</th>   <td>   -0.1816</td> <td>    1.099</td> <td>   -0.165</td> <td> 0.869</td> <td>   -2.335</td> <td>    1.972</td>\n",
       "</tr>\n",
       "<tr>\n",
       "  <th>genre_Thriller</th>    <td>   -0.2180</td> <td>    0.012</td> <td>  -18.446</td> <td> 0.000</td> <td>   -0.241</td> <td>   -0.195</td>\n",
       "</tr>\n",
       "<tr>\n",
       "  <th>genre_War</th>         <td>    0.3266</td> <td>    0.023</td> <td>   14.511</td> <td> 0.000</td> <td>    0.282</td> <td>    0.371</td>\n",
       "</tr>\n",
       "<tr>\n",
       "  <th>genre_Western</th>     <td>    0.3941</td> <td>    0.027</td> <td>   14.462</td> <td> 0.000</td> <td>    0.341</td> <td>    0.448</td>\n",
       "</tr>\n",
       "</table>\n",
       "<table class=\"simpletable\">\n",
       "<tr>\n",
       "  <th>Omnibus:</th>       <td>17091.005</td> <th>  Durbin-Watson:     </th> <td>   1.848</td> \n",
       "</tr>\n",
       "<tr>\n",
       "  <th>Prob(Omnibus):</th>  <td> 0.000</td>   <th>  Jarque-Bera (JB):  </th> <td>69214.654</td>\n",
       "</tr>\n",
       "<tr>\n",
       "  <th>Skew:</th>           <td>-0.821</td>   <th>  Prob(JB):          </th> <td>    0.00</td> \n",
       "</tr>\n",
       "<tr>\n",
       "  <th>Kurtosis:</th>       <td> 6.769</td>   <th>  Cond. No.          </th> <td>6.26e+05</td> \n",
       "</tr>\n",
       "</table><br/><br/>Warnings:<br/>[1] Standard Errors assume that the covariance matrix of the errors is correctly specified.<br/>[2] The condition number is large, 6.26e+05. This might indicate that there are<br/>strong multicollinearity or other numerical problems."
      ],
      "text/plain": [
       "<class 'statsmodels.iolib.summary.Summary'>\n",
       "\"\"\"\n",
       "                                 OLS Regression Results                                \n",
       "=======================================================================================\n",
       "Dep. Variable:          averageRating   R-squared (uncentered):                   0.968\n",
       "Model:                            OLS   Adj. R-squared (uncentered):              0.968\n",
       "Method:                 Least Squares   F-statistic:                          1.015e+05\n",
       "Date:                Mon, 19 Apr 2021   Prob (F-statistic):                        0.00\n",
       "Time:                        06:03:51   Log-Likelihood:                     -1.4863e+05\n",
       "No. Observations:               98262   AIC:                                  2.973e+05\n",
       "Df Residuals:                   98233   BIC:                                  2.976e+05\n",
       "Df Model:                          29                                                  \n",
       "Covariance Type:            nonrobust                                                  \n",
       "=====================================================================================\n",
       "                        coef    std err          t      P>|t|      [0.025      0.975]\n",
       "-------------------------------------------------------------------------------------\n",
       "startYear             0.0024   8.89e-06    272.792      0.000       0.002       0.002\n",
       "runtimeMinutes        0.0081      0.000     56.253      0.000       0.008       0.008\n",
       "genre_Action         -0.3195      0.011    -28.563      0.000      -0.341      -0.298\n",
       "genre_Adult           0.0686      0.068      1.007      0.314      -0.065       0.202\n",
       "genre_Adventure       0.0762      0.014      5.509      0.000       0.049       0.103\n",
       "genre_Animation       0.7566      0.024     31.275      0.000       0.709       0.804\n",
       "genre_Biography       0.2710      0.019     14.075      0.000       0.233       0.309\n",
       "genre_Comedy          0.0362      0.009      3.921      0.000       0.018       0.054\n",
       "genre_Crime           0.1735      0.011     15.206      0.000       0.151       0.196\n",
       "genre_Documentary     1.3425      0.016     83.594      0.000       1.311       1.374\n",
       "genre_Drama           0.5034      0.009     55.773      0.000       0.486       0.521\n",
       "genre_Family         -0.0533      0.018     -2.985      0.003      -0.088      -0.018\n",
       "genre_Fantasy         0.0554      0.018      3.097      0.002       0.020       0.090\n",
       "genre_Film-Noir       0.6571      0.043     15.279      0.000       0.573       0.741\n",
       "genre_History         0.1993      0.021      9.634      0.000       0.159       0.240\n",
       "genre_Horror         -0.8126      0.013    -61.906      0.000      -0.838      -0.787\n",
       "genre_Music           0.2138      0.022      9.649      0.000       0.170       0.257\n",
       "genre_Musical         0.2974      0.025     12.137      0.000       0.249       0.345\n",
       "genre_Mystery         0.2046      0.016     13.047      0.000       0.174       0.235\n",
       "genre_News            0.1391      0.094      1.488      0.137      -0.044       0.322\n",
       "genre_Reality-TV     -0.3137      0.389     -0.807      0.419      -1.075       0.448\n",
       "genre_Romance         0.1105      0.010     10.749      0.000       0.090       0.131\n",
       "genre_Sci-Fi         -0.3416      0.019    -18.223      0.000      -0.378      -0.305\n",
       "genre_Short           0.9962      0.634      1.570      0.116      -0.247       2.239\n",
       "genre_Sport           0.0753      0.029      2.622      0.009       0.019       0.132\n",
       "genre_Talk-Show      -0.1816      1.099     -0.165      0.869      -2.335       1.972\n",
       "genre_Thriller       -0.2180      0.012    -18.446      0.000      -0.241      -0.195\n",
       "genre_War             0.3266      0.023     14.511      0.000       0.282       0.371\n",
       "genre_Western         0.3941      0.027     14.462      0.000       0.341       0.448\n",
       "==============================================================================\n",
       "Omnibus:                    17091.005   Durbin-Watson:                   1.848\n",
       "Prob(Omnibus):                  0.000   Jarque-Bera (JB):            69214.654\n",
       "Skew:                          -0.821   Prob(JB):                         0.00\n",
       "Kurtosis:                       6.769   Cond. No.                     6.26e+05\n",
       "==============================================================================\n",
       "\n",
       "Warnings:\n",
       "[1] Standard Errors assume that the covariance matrix of the errors is correctly specified.\n",
       "[2] The condition number is large, 6.26e+05. This might indicate that there are\n",
       "strong multicollinearity or other numerical problems.\n",
       "\"\"\""
      ]
     },
     "execution_count": 40,
     "metadata": {},
     "output_type": "execute_result"
    }
   ],
   "source": [
    "import statsmodels.api as sm\n",
    "model = sm.OLS(Y, X).fit()\n",
    "predictions = model.predict(X) \n",
    "model.summary()"
   ]
  },
  {
   "cell_type": "markdown",
   "metadata": {},
   "source": [
    "So according to stat models, OLS model, Genres like Reality Tv, News, short, Talk shows are not significant in predicting ratings. While Animation, Biography, Documentry, Drama, War and others have positive impact. Animations and Documentry have huge positive impact. While, Horror, scifi and Reality Tv have a negative impact. The R2 score is 0.968 which means that this model explains 96.8% of the variance. Lets try some other models too."
   ]
  },
  {
   "cell_type": "markdown",
   "metadata": {},
   "source": [
    "#### Linear Model"
   ]
  },
  {
   "cell_type": "code",
   "execution_count": 41,
   "metadata": {},
   "outputs": [
    {
     "data": {
      "text/plain": [
       "LinearRegression(copy_X=True, fit_intercept=True, n_jobs=None, normalize=False)"
      ]
     },
     "execution_count": 41,
     "metadata": {},
     "output_type": "execute_result"
    }
   ],
   "source": [
    "model = LinearRegression()\n",
    "model.fit(x_train, y_train)"
   ]
  },
  {
   "cell_type": "code",
   "execution_count": 42,
   "metadata": {},
   "outputs": [
    {
     "name": "stdout",
     "output_type": "stream",
     "text": [
      "Test Metrics:\n",
      "\t MAE:  0.8031930717035161\n",
      "\t MSE:  1.1058529733883216\n",
      "\t R2 Score:  0.2974845408687705\n",
      "\n",
      "Train Metrics:\n",
      "\t MAE:  0.8047912218544078\n",
      "\t MSE:  1.119101349697162\n",
      "\t R2 Score:  0.2910977017161811\n"
     ]
    }
   ],
   "source": [
    "print(\"Test Metrics:\")\n",
    "y_pred = model.predict(x_test)\n",
    "print(\"\\t MAE: \", mean_absolute_error(y_test, y_pred))\n",
    "print(\"\\t MSE: \", mean_squared_error(y_test, y_pred))\n",
    "print(\"\\t R2 Score: \", r2_score(y_test, y_pred))\n",
    "\n",
    "print(\"\\nTrain Metrics:\")\n",
    "y_pred = model.predict(x_train)\n",
    "\n",
    "print(\"\\t MAE: \", mean_absolute_error(y_train, y_pred))\n",
    "print(\"\\t MSE: \", mean_squared_error(y_train, y_pred))\n",
    "print(\"\\t R2 Score: \", r2_score(y_train, y_pred))"
   ]
  },
  {
   "cell_type": "code",
   "execution_count": 43,
   "metadata": {},
   "outputs": [
    {
     "name": "stdout",
     "output_type": "stream",
     "text": [
      "Feature: startYear, Score: -0.01114\n",
      "Feature: runtimeMinutes, Score: 0.00924\n",
      "Feature: genre_Action, Score: -0.28780\n",
      "Feature: genre_Adult, Score: -0.07879\n",
      "Feature: genre_Adventure, Score: -0.04114\n",
      "Feature: genre_Animation, Score: 0.89211\n",
      "Feature: genre_Biography, Score: 0.30286\n",
      "Feature: genre_Comedy, Score: 0.02593\n",
      "Feature: genre_Crime, Score: 0.08477\n",
      "Feature: genre_Documentary, Score: 1.50326\n",
      "Feature: genre_Drama, Score: 0.48982\n",
      "Feature: genre_Family, Score: -0.02503\n",
      "Feature: genre_Fantasy, Score: 0.05096\n",
      "Feature: genre_Film-Noir, Score: 0.07791\n",
      "Feature: genre_History, Score: 0.13334\n",
      "Feature: genre_Horror, Score: -0.77584\n",
      "Feature: genre_Music, Score: 0.14108\n",
      "Feature: genre_Musical, Score: -0.00171\n",
      "Feature: genre_Mystery, Score: 0.15445\n",
      "Feature: genre_News, Score: 0.25523\n",
      "Feature: genre_Reality-TV, Score: -0.32364\n",
      "Feature: genre_Romance, Score: 0.03798\n",
      "Feature: genre_Sci-Fi, Score: -0.36512\n",
      "Feature: genre_Short, Score: 0.87977\n",
      "Feature: genre_Sport, Score: 0.07757\n",
      "Feature: genre_Talk-Show, Score: -0.07075\n",
      "Feature: genre_Thriller, Score: -0.14629\n",
      "Feature: genre_War, Score: 0.09529\n",
      "Feature: genre_Western, Score: -0.01066\n"
     ]
    }
   ],
   "source": [
    "features = list(x_train.columns)\n",
    "importance = model.coef_\n",
    "for i,v in zip(features, importance):\n",
    "    print('Feature: %s, Score: %.5f' % (i,v))"
   ]
  },
  {
   "cell_type": "code",
   "execution_count": 44,
   "metadata": {},
   "outputs": [
    {
     "data": {
      "image/png": "[encoded data removed]",
      "text/plain": [
       "<Figure size 432x288 with 1 Axes>"
      ]
     },
     "metadata": {
      "needs_background": "light"
     },
     "output_type": "display_data"
    }
   ],
   "source": [
    "plt.bar(features, importance)\n",
    "plt.xticks(rotation = 90)\n",
    "plt.show()"
   ]
  },
  {
   "cell_type": "markdown",
   "metadata": {},
   "source": [
    "So for Linear model we got an MAE of 0.8, but the R2 score is low. Documentry and Animation seems to be positive. Horror has a negative impact."
   ]
  },
  {
   "cell_type": "markdown",
   "metadata": {},
   "source": [
    "#### Random Forest "
   ]
  },
  {
   "cell_type": "code",
   "execution_count": 45,
   "metadata": {},
   "outputs": [
    {
     "data": {
      "text/plain": [
       "RandomForestRegressor(bootstrap=True, ccp_alpha=0.0, criterion='mse',\n",
       "                      max_depth=None, max_features='auto', max_leaf_nodes=None,\n",
       "                      max_samples=None, min_impurity_decrease=0.0,\n",
       "                      min_impurity_split=None, min_samples_leaf=1,\n",
       "                      min_samples_split=2, min_weight_fraction_leaf=0.0,\n",
       "                      n_estimators=100, n_jobs=None, oob_score=False,\n",
       "                      random_state=1289, verbose=0, warm_start=False)"
      ]
     },
     "execution_count": 45,
     "metadata": {},
     "output_type": "execute_result"
    }
   ],
   "source": [
    "model = RandomForestRegressor(random_state=1289)\n",
    "model.fit(x_train, y_train)"
   ]
  },
  {
   "cell_type": "code",
   "execution_count": 46,
   "metadata": {},
   "outputs": [
    {
     "name": "stdout",
     "output_type": "stream",
     "text": [
      "Test Metrics:\n",
      "\t MAE:  0.8337189150722194\n",
      "\t MSE:  1.2096461637665703\n",
      "\t R2 Score:  0.2315478182230324\n",
      "\n",
      "Train Metrics:\n",
      "\t MAE:  0.4247587244153509\n",
      "\t MSE:  0.35761078827901566\n",
      "\t R2 Score:  0.7734690340864261\n"
     ]
    }
   ],
   "source": [
    "print(\"Test Metrics:\")\n",
    "y_pred = model.predict(x_test)\n",
    "print(\"\\t MAE: \", mean_absolute_error(y_test, y_pred))\n",
    "print(\"\\t MSE: \", mean_squared_error(y_test, y_pred))\n",
    "print(\"\\t R2 Score: \", r2_score(y_test, y_pred))\n",
    "\n",
    "print(\"\\nTrain Metrics:\")\n",
    "y_pred = model.predict(x_train)\n",
    "\n",
    "print(\"\\t MAE: \", mean_absolute_error(y_train, y_pred))\n",
    "print(\"\\t MSE: \", mean_squared_error(y_train, y_pred))\n",
    "print(\"\\t R2 Score: \", r2_score(y_train, y_pred))"
   ]
  },
  {
   "cell_type": "code",
   "execution_count": 47,
   "metadata": {},
   "outputs": [
    {
     "data": {
      "image/png": "[encoded data removed]",
      "text/plain": [
       "<Figure size 432x288 with 1 Axes>"
      ]
     },
     "metadata": {
      "needs_background": "light"
     },
     "output_type": "display_data"
    }
   ],
   "source": [
    "importance = model.feature_importances_\n",
    "plt.bar(features, importance)\n",
    "plt.xticks(rotation = 90)\n",
    "plt.show()"
   ]
  },
  {
   "cell_type": "markdown",
   "metadata": {},
   "source": [
    "According to random forest, Start Year and runtime minutes are the most important features, Genre Horror is also important. The R2 score for Test is low for Random FOrest while for Train set it is really good. This means that the model is overfitting."
   ]
  },
  {
   "cell_type": "markdown",
   "metadata": {},
   "source": [
    "#### Neural Network"
   ]
  },
  {
   "cell_type": "code",
   "execution_count": 48,
   "metadata": {},
   "outputs": [],
   "source": [
    "x_train = x_train.values\n",
    "x_test = x_test.values\n",
    "y_train = y_train.values\n",
    "y_test = y_test.values"
   ]
  },
  {
   "cell_type": "code",
   "execution_count": 49,
   "metadata": {},
   "outputs": [],
   "source": [
    "import tensorflow\n",
    "from tensorflow.keras.models import Sequential\n",
    "from tensorflow.keras.layers import Dense\n",
    "\n",
    "num_features = X.shape[1]\n",
    "hidden_layer_nodes=64\n",
    "\n",
    "def NeuralModel():\n",
    "    model = Sequential()\n",
    "    model.add(Dense(64, input_dim=num_features, \n",
    "                    kernel_initializer='normal'))\n",
    "    model.add(Dense(256, \n",
    "                    kernel_initializer='normal', \n",
    "                    activation='relu'))\n",
    "    model.add(Dense(512, \n",
    "                    kernel_initializer='normal', \n",
    "                    activation='relu'))\n",
    "    model.add(Dense(256, \n",
    "                    kernel_initializer='normal', \n",
    "                    activation='relu'))\n",
    "    model.add(Dense(64, \n",
    "                    kernel_initializer='normal', \n",
    "                    activation='relu'))\n",
    "    model.add(Dense(1, kernel_initializer='normal'))\n",
    "    model.compile(loss='mean_squared_error', \n",
    "                  optimizer='adam', \n",
    "                  metrics=['MSE'])\n",
    "    return model"
   ]
  },
  {
   "cell_type": "code",
   "execution_count": 50,
   "metadata": {},
   "outputs": [],
   "source": [
    "model = NeuralModel()\n",
    "\n",
    "nn = model.fit(x_train, y_train, \n",
    "               validation_data=(x_test, y_test), \n",
    "               epochs=100, \n",
    "               batch_size=200,\n",
    "              verbose=0)"
   ]
  },
  {
   "cell_type": "code",
   "execution_count": 51,
   "metadata": {},
   "outputs": [
    {
     "name": "stdout",
     "output_type": "stream",
     "text": [
      "Test Metrics:\n",
      "\t MAE:  0.8071258676650567\n",
      "\t MSE:  1.116199779266517\n",
      "\t R2 Score:  0.29091152324619207\n",
      "\n",
      "Train Metrics:\n",
      "\t MAE:  0.8075119751480152\n",
      "\t MSE:  1.1139270413186777\n",
      "\t R2 Score:  0.2943754022591474\n"
     ]
    }
   ],
   "source": [
    "print(\"Test Metrics:\")\n",
    "y_pred = model.predict(x_test)\n",
    "print(\"\\t MAE: \", mean_absolute_error(y_test, y_pred))\n",
    "print(\"\\t MSE: \", mean_squared_error(y_test, y_pred))\n",
    "print(\"\\t R2 Score: \", r2_score(y_test, y_pred))\n",
    "\n",
    "print(\"\\nTrain Metrics:\")\n",
    "y_pred = model.predict(x_train)\n",
    "\n",
    "print(\"\\t MAE: \", mean_absolute_error(y_train, y_pred))\n",
    "print(\"\\t MSE: \", mean_squared_error(y_train, y_pred))\n",
    "print(\"\\t R2 Score: \", r2_score(y_train, y_pred))"
   ]
  },
  {
   "cell_type": "code",
   "execution_count": 52,
   "metadata": {},
   "outputs": [
    {
     "data": {
      "image/png": "[encoded data removed]",
      "text/plain": [
       "<Figure size 432x288 with 2 Axes>"
      ]
     },
     "metadata": {
      "needs_background": "light"
     },
     "output_type": "display_data"
    }
   ],
   "source": [
    "plt.subplot(2,1,1)\n",
    "plt.plot(nn.history['MSE'])\n",
    "plt.plot(nn.history['val_MSE'])\n",
    "plt.title('model accuracy')\n",
    "plt.ylabel('accuracy')\n",
    "plt.xlabel('epoch')\n",
    "plt.legend(['train', 'test'], loc='lower right')\n",
    "\n",
    "plt.subplot(2,1,2)\n",
    "plt.plot(nn.history['loss'])\n",
    "plt.plot(nn.history['val_loss'])\n",
    "plt.title('model loss')\n",
    "plt.ylabel('loss')\n",
    "plt.xlabel('epoch')\n",
    "plt.legend(['train', 'test'], loc='upper right')\n",
    "\n",
    "plt.show()"
   ]
  },
  {
   "cell_type": "markdown",
   "metadata": {},
   "source": [
    "## Summary"
   ]
  },
  {
   "cell_type": "markdown",
   "metadata": {},
   "source": [
    "For this project we started by combining some of the datasets provided by IMDb datasets. We had to predict the average rating of a movie. Finally after preparing the dataset we had about 29 features. The main ones are Start Year, Run time and Genres.\n",
    "\n",
    "Firstly we check which are the most important features using Statmodels OLS model and found that  Genres like Reality Tv, News, short, Talk shows are not significant in predicting ratings. While Animation, Biography, Documentry, Drama, War and others have positive impact. Start year and run time are also important (these have a positive impact on the rating).\n",
    "\n",
    "Next we tried Linear Model and RandomForest model with this datasets. Linear modle got an MAE of 0.8, but the R2 score is 0.30. Documentry and Animation seems to be positive. Horror has a negative impact. Start year and run time are a little positive which mean recent movies and Longer have slightly positive rating. Random Forest also showed almost the same thing.\n",
    "\n",
    "Lastly we tried a Neural Network. We got Good Score with the neural network. I believe with more time this neural network will perform better."
   ]
  },
  {
   "cell_type": "code",
   "execution_count": null,
   "metadata": {},
   "outputs": [],
   "source": []
  }
 ],
 "metadata": {
  "kernelspec": {
   "display_name": "Python 3",
   "language": "python",
   "name": "python3"
  },
  "language_info": {
   "codemirror_mode": {
    "name": "ipython",
    "version": 3
   },
   "file_extension": ".py",
   "mimetype": "text/x-python",
   "name": "python",
   "nbconvert_exporter": "python",
   "pygments_lexer": "ipython3",
   "version": "3.7.4"
  }
 },
 "nbformat": 4,
 "nbformat_minor": 4
}
